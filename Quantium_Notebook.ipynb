{
 "cells": [
  {
   "cell_type": "markdown",
   "id": "950fdfb9",
   "metadata": {},
   "source": [
    "# Quantium Data Analysis"
   ]
  },
  {
   "cell_type": "code",
   "execution_count": 182,
   "id": "49ac6c21",
   "metadata": {},
   "outputs": [],
   "source": [
    "#Load libraries\n",
    "import numpy as np\n",
    "import pandas as pd\n",
    "import matplotlib.pyplot as plt\n",
    "import seaborn as sns\n",
    "from collections import Counter\n",
    "import scipy.stats as stats\n",
    "\n",
    "%matplotlib inline"
   ]
  },
  {
   "cell_type": "code",
   "execution_count": 118,
   "id": "71785b0c",
   "metadata": {},
   "outputs": [],
   "source": [
    "#Load datasets\n",
    "transaction_data = pd.read_excel(\"QVI_transaction_data.xlsx\")\n",
    "customer_data = pd.read_csv(\"QVI_purchase_behaviour.csv\")"
   ]
  },
  {
   "cell_type": "markdown",
   "id": "0d214e33",
   "metadata": {},
   "source": [
    "## 1. Data Cleaning"
   ]
  },
  {
   "cell_type": "markdown",
   "id": "2866ff25",
   "metadata": {},
   "source": [
    "### 1.1. Cleaning transaction data "
   ]
  },
  {
   "cell_type": "code",
   "execution_count": 3,
   "id": "8f65a735",
   "metadata": {},
   "outputs": [
    {
     "data": {
      "text/html": [
       "<div>\n",
       "<style scoped>\n",
       "    .dataframe tbody tr th:only-of-type {\n",
       "        vertical-align: middle;\n",
       "    }\n",
       "\n",
       "    .dataframe tbody tr th {\n",
       "        vertical-align: top;\n",
       "    }\n",
       "\n",
       "    .dataframe thead th {\n",
       "        text-align: right;\n",
       "    }\n",
       "</style>\n",
       "<table border=\"1\" class=\"dataframe\">\n",
       "  <thead>\n",
       "    <tr style=\"text-align: right;\">\n",
       "      <th></th>\n",
       "      <th>DATE</th>\n",
       "      <th>STORE_NBR</th>\n",
       "      <th>LYLTY_CARD_NBR</th>\n",
       "      <th>TXN_ID</th>\n",
       "      <th>PROD_NBR</th>\n",
       "      <th>PROD_NAME</th>\n",
       "      <th>PROD_QTY</th>\n",
       "      <th>TOT_SALES</th>\n",
       "    </tr>\n",
       "  </thead>\n",
       "  <tbody>\n",
       "    <tr>\n",
       "      <th>0</th>\n",
       "      <td>43390</td>\n",
       "      <td>1</td>\n",
       "      <td>1000</td>\n",
       "      <td>1</td>\n",
       "      <td>5</td>\n",
       "      <td>Natural Chip        Compny SeaSalt175g</td>\n",
       "      <td>2</td>\n",
       "      <td>6.0</td>\n",
       "    </tr>\n",
       "    <tr>\n",
       "      <th>1</th>\n",
       "      <td>43599</td>\n",
       "      <td>1</td>\n",
       "      <td>1307</td>\n",
       "      <td>348</td>\n",
       "      <td>66</td>\n",
       "      <td>CCs Nacho Cheese    175g</td>\n",
       "      <td>3</td>\n",
       "      <td>6.3</td>\n",
       "    </tr>\n",
       "    <tr>\n",
       "      <th>2</th>\n",
       "      <td>43605</td>\n",
       "      <td>1</td>\n",
       "      <td>1343</td>\n",
       "      <td>383</td>\n",
       "      <td>61</td>\n",
       "      <td>Smiths Crinkle Cut  Chips Chicken 170g</td>\n",
       "      <td>2</td>\n",
       "      <td>2.9</td>\n",
       "    </tr>\n",
       "    <tr>\n",
       "      <th>3</th>\n",
       "      <td>43329</td>\n",
       "      <td>2</td>\n",
       "      <td>2373</td>\n",
       "      <td>974</td>\n",
       "      <td>69</td>\n",
       "      <td>Smiths Chip Thinly  S/Cream&amp;Onion 175g</td>\n",
       "      <td>5</td>\n",
       "      <td>15.0</td>\n",
       "    </tr>\n",
       "    <tr>\n",
       "      <th>4</th>\n",
       "      <td>43330</td>\n",
       "      <td>2</td>\n",
       "      <td>2426</td>\n",
       "      <td>1038</td>\n",
       "      <td>108</td>\n",
       "      <td>Kettle Tortilla ChpsHny&amp;Jlpno Chili 150g</td>\n",
       "      <td>3</td>\n",
       "      <td>13.8</td>\n",
       "    </tr>\n",
       "  </tbody>\n",
       "</table>\n",
       "</div>"
      ],
      "text/plain": [
       "    DATE  STORE_NBR  LYLTY_CARD_NBR  TXN_ID  PROD_NBR  \\\n",
       "0  43390          1            1000       1         5   \n",
       "1  43599          1            1307     348        66   \n",
       "2  43605          1            1343     383        61   \n",
       "3  43329          2            2373     974        69   \n",
       "4  43330          2            2426    1038       108   \n",
       "\n",
       "                                  PROD_NAME  PROD_QTY  TOT_SALES  \n",
       "0    Natural Chip        Compny SeaSalt175g         2        6.0  \n",
       "1                  CCs Nacho Cheese    175g         3        6.3  \n",
       "2    Smiths Crinkle Cut  Chips Chicken 170g         2        2.9  \n",
       "3    Smiths Chip Thinly  S/Cream&Onion 175g         5       15.0  \n",
       "4  Kettle Tortilla ChpsHny&Jlpno Chili 150g         3       13.8  "
      ]
     },
     "execution_count": 3,
     "metadata": {},
     "output_type": "execute_result"
    }
   ],
   "source": [
    "transaction_data.head()"
   ]
  },
  {
   "cell_type": "code",
   "execution_count": 4,
   "id": "3fa7319a",
   "metadata": {},
   "outputs": [
    {
     "name": "stdout",
     "output_type": "stream",
     "text": [
      "<class 'pandas.core.frame.DataFrame'>\n",
      "RangeIndex: 264836 entries, 0 to 264835\n",
      "Data columns (total 8 columns):\n",
      " #   Column          Non-Null Count   Dtype  \n",
      "---  ------          --------------   -----  \n",
      " 0   DATE            264836 non-null  int64  \n",
      " 1   STORE_NBR       264836 non-null  int64  \n",
      " 2   LYLTY_CARD_NBR  264836 non-null  int64  \n",
      " 3   TXN_ID          264836 non-null  int64  \n",
      " 4   PROD_NBR        264836 non-null  int64  \n",
      " 5   PROD_NAME       264836 non-null  object \n",
      " 6   PROD_QTY        264836 non-null  int64  \n",
      " 7   TOT_SALES       264836 non-null  float64\n",
      "dtypes: float64(1), int64(6), object(1)\n",
      "memory usage: 16.2+ MB\n"
     ]
    }
   ],
   "source": [
    "transaction_data.info()"
   ]
  },
  {
   "cell_type": "code",
   "execution_count": 5,
   "id": "df9d062a",
   "metadata": {},
   "outputs": [],
   "source": [
    "#Change dtype to save memory\n",
    "transaction_data['TOT_SALES'] = transaction_data['TOT_SALES'].astype('float32') #Change float64 to float32\n",
    "\n",
    "int64 =  transaction_data.select_dtypes(include=['int64']).columns.tolist() \n",
    "transaction_data[int64] = transaction_data[int64].astype('int32') #Change int64 to int32\n",
    "\n",
    "transaction_data['PROD_NAME'] = transaction_data['PROD_NAME'].astype('category')"
   ]
  },
  {
   "cell_type": "code",
   "execution_count": 6,
   "id": "0743c88e",
   "metadata": {},
   "outputs": [
    {
     "name": "stdout",
     "output_type": "stream",
     "text": [
      "<class 'pandas.core.frame.DataFrame'>\n",
      "RangeIndex: 264836 entries, 0 to 264835\n",
      "Data columns (total 8 columns):\n",
      " #   Column          Non-Null Count   Dtype   \n",
      "---  ------          --------------   -----   \n",
      " 0   DATE            264836 non-null  int32   \n",
      " 1   STORE_NBR       264836 non-null  int32   \n",
      " 2   LYLTY_CARD_NBR  264836 non-null  int32   \n",
      " 3   TXN_ID          264836 non-null  int32   \n",
      " 4   PROD_NBR        264836 non-null  int32   \n",
      " 5   PROD_NAME       264836 non-null  category\n",
      " 6   PROD_QTY        264836 non-null  int32   \n",
      " 7   TOT_SALES       264836 non-null  float32 \n",
      "dtypes: category(1), float32(1), int32(6)\n",
      "memory usage: 7.3 MB\n"
     ]
    }
   ],
   "source": [
    "transaction_data.info()"
   ]
  },
  {
   "cell_type": "markdown",
   "id": "4d0d0243",
   "metadata": {},
   "source": [
    "Memory usage from 16.2+ MB change to 7.3 MB"
   ]
  },
  {
   "cell_type": "code",
   "execution_count": 7,
   "id": "abadf72a",
   "metadata": {},
   "outputs": [
    {
     "data": {
      "text/html": [
       "<div>\n",
       "<style scoped>\n",
       "    .dataframe tbody tr th:only-of-type {\n",
       "        vertical-align: middle;\n",
       "    }\n",
       "\n",
       "    .dataframe tbody tr th {\n",
       "        vertical-align: top;\n",
       "    }\n",
       "\n",
       "    .dataframe thead th {\n",
       "        text-align: right;\n",
       "    }\n",
       "</style>\n",
       "<table border=\"1\" class=\"dataframe\">\n",
       "  <thead>\n",
       "    <tr style=\"text-align: right;\">\n",
       "      <th></th>\n",
       "      <th>DATE</th>\n",
       "      <th>STORE_NBR</th>\n",
       "      <th>LYLTY_CARD_NBR</th>\n",
       "      <th>TXN_ID</th>\n",
       "      <th>PROD_NBR</th>\n",
       "      <th>PROD_QTY</th>\n",
       "      <th>TOT_SALES</th>\n",
       "    </tr>\n",
       "  </thead>\n",
       "  <tbody>\n",
       "    <tr>\n",
       "      <th>count</th>\n",
       "      <td>264836.000000</td>\n",
       "      <td>264836.00000</td>\n",
       "      <td>2.648360e+05</td>\n",
       "      <td>2.648360e+05</td>\n",
       "      <td>264836.000000</td>\n",
       "      <td>264836.000000</td>\n",
       "      <td>264836.000000</td>\n",
       "    </tr>\n",
       "    <tr>\n",
       "      <th>mean</th>\n",
       "      <td>43464.036260</td>\n",
       "      <td>135.08011</td>\n",
       "      <td>1.355495e+05</td>\n",
       "      <td>1.351583e+05</td>\n",
       "      <td>56.583157</td>\n",
       "      <td>1.907309</td>\n",
       "      <td>7.302778</td>\n",
       "    </tr>\n",
       "    <tr>\n",
       "      <th>std</th>\n",
       "      <td>105.389282</td>\n",
       "      <td>76.78418</td>\n",
       "      <td>8.057998e+04</td>\n",
       "      <td>7.813303e+04</td>\n",
       "      <td>32.826638</td>\n",
       "      <td>0.643654</td>\n",
       "      <td>3.083583</td>\n",
       "    </tr>\n",
       "    <tr>\n",
       "      <th>min</th>\n",
       "      <td>43282.000000</td>\n",
       "      <td>1.00000</td>\n",
       "      <td>1.000000e+03</td>\n",
       "      <td>1.000000e+00</td>\n",
       "      <td>1.000000</td>\n",
       "      <td>1.000000</td>\n",
       "      <td>1.500000</td>\n",
       "    </tr>\n",
       "    <tr>\n",
       "      <th>25%</th>\n",
       "      <td>43373.000000</td>\n",
       "      <td>70.00000</td>\n",
       "      <td>7.002100e+04</td>\n",
       "      <td>6.760150e+04</td>\n",
       "      <td>28.000000</td>\n",
       "      <td>2.000000</td>\n",
       "      <td>5.400000</td>\n",
       "    </tr>\n",
       "    <tr>\n",
       "      <th>50%</th>\n",
       "      <td>43464.000000</td>\n",
       "      <td>130.00000</td>\n",
       "      <td>1.303575e+05</td>\n",
       "      <td>1.351375e+05</td>\n",
       "      <td>56.000000</td>\n",
       "      <td>2.000000</td>\n",
       "      <td>7.400000</td>\n",
       "    </tr>\n",
       "    <tr>\n",
       "      <th>75%</th>\n",
       "      <td>43555.000000</td>\n",
       "      <td>203.00000</td>\n",
       "      <td>2.030942e+05</td>\n",
       "      <td>2.027012e+05</td>\n",
       "      <td>85.000000</td>\n",
       "      <td>2.000000</td>\n",
       "      <td>9.200000</td>\n",
       "    </tr>\n",
       "    <tr>\n",
       "      <th>max</th>\n",
       "      <td>43646.000000</td>\n",
       "      <td>272.00000</td>\n",
       "      <td>2.373711e+06</td>\n",
       "      <td>2.415841e+06</td>\n",
       "      <td>114.000000</td>\n",
       "      <td>200.000000</td>\n",
       "      <td>650.000000</td>\n",
       "    </tr>\n",
       "  </tbody>\n",
       "</table>\n",
       "</div>"
      ],
      "text/plain": [
       "                DATE     STORE_NBR  LYLTY_CARD_NBR        TXN_ID  \\\n",
       "count  264836.000000  264836.00000    2.648360e+05  2.648360e+05   \n",
       "mean    43464.036260     135.08011    1.355495e+05  1.351583e+05   \n",
       "std       105.389282      76.78418    8.057998e+04  7.813303e+04   \n",
       "min     43282.000000       1.00000    1.000000e+03  1.000000e+00   \n",
       "25%     43373.000000      70.00000    7.002100e+04  6.760150e+04   \n",
       "50%     43464.000000     130.00000    1.303575e+05  1.351375e+05   \n",
       "75%     43555.000000     203.00000    2.030942e+05  2.027012e+05   \n",
       "max     43646.000000     272.00000    2.373711e+06  2.415841e+06   \n",
       "\n",
       "            PROD_NBR       PROD_QTY      TOT_SALES  \n",
       "count  264836.000000  264836.000000  264836.000000  \n",
       "mean       56.583157       1.907309       7.302778  \n",
       "std        32.826638       0.643654       3.083583  \n",
       "min         1.000000       1.000000       1.500000  \n",
       "25%        28.000000       2.000000       5.400000  \n",
       "50%        56.000000       2.000000       7.400000  \n",
       "75%        85.000000       2.000000       9.200000  \n",
       "max       114.000000     200.000000     650.000000  "
      ]
     },
     "execution_count": 7,
     "metadata": {},
     "output_type": "execute_result"
    }
   ],
   "source": [
    "transaction_data.describe()"
   ]
  },
  {
   "cell_type": "markdown",
   "id": "ff9dc2c5",
   "metadata": {},
   "source": [
    "The maximum of PROD_QTY, TOT_SALES are outstanding. Let's take a look"
   ]
  },
  {
   "cell_type": "code",
   "execution_count": 8,
   "id": "c6e287dd",
   "metadata": {},
   "outputs": [
    {
     "data": {
      "text/html": [
       "<div>\n",
       "<style scoped>\n",
       "    .dataframe tbody tr th:only-of-type {\n",
       "        vertical-align: middle;\n",
       "    }\n",
       "\n",
       "    .dataframe tbody tr th {\n",
       "        vertical-align: top;\n",
       "    }\n",
       "\n",
       "    .dataframe thead th {\n",
       "        text-align: right;\n",
       "    }\n",
       "</style>\n",
       "<table border=\"1\" class=\"dataframe\">\n",
       "  <thead>\n",
       "    <tr style=\"text-align: right;\">\n",
       "      <th></th>\n",
       "      <th>DATE</th>\n",
       "      <th>STORE_NBR</th>\n",
       "      <th>LYLTY_CARD_NBR</th>\n",
       "      <th>TXN_ID</th>\n",
       "      <th>PROD_NBR</th>\n",
       "      <th>PROD_NAME</th>\n",
       "      <th>PROD_QTY</th>\n",
       "      <th>TOT_SALES</th>\n",
       "    </tr>\n",
       "  </thead>\n",
       "  <tbody>\n",
       "    <tr>\n",
       "      <th>69762</th>\n",
       "      <td>43331</td>\n",
       "      <td>226</td>\n",
       "      <td>226000</td>\n",
       "      <td>226201</td>\n",
       "      <td>4</td>\n",
       "      <td>Dorito Corn Chp     Supreme 380g</td>\n",
       "      <td>200</td>\n",
       "      <td>650.0</td>\n",
       "    </tr>\n",
       "    <tr>\n",
       "      <th>69763</th>\n",
       "      <td>43605</td>\n",
       "      <td>226</td>\n",
       "      <td>226000</td>\n",
       "      <td>226210</td>\n",
       "      <td>4</td>\n",
       "      <td>Dorito Corn Chp     Supreme 380g</td>\n",
       "      <td>200</td>\n",
       "      <td>650.0</td>\n",
       "    </tr>\n",
       "  </tbody>\n",
       "</table>\n",
       "</div>"
      ],
      "text/plain": [
       "        DATE  STORE_NBR  LYLTY_CARD_NBR  TXN_ID  PROD_NBR  \\\n",
       "69762  43331        226          226000  226201         4   \n",
       "69763  43605        226          226000  226210         4   \n",
       "\n",
       "                              PROD_NAME  PROD_QTY  TOT_SALES  \n",
       "69762  Dorito Corn Chp     Supreme 380g       200      650.0  \n",
       "69763  Dorito Corn Chp     Supreme 380g       200      650.0  "
      ]
     },
     "execution_count": 8,
     "metadata": {},
     "output_type": "execute_result"
    }
   ],
   "source": [
    "transaction_data.loc[transaction_data['PROD_QTY'] == 200]"
   ]
  },
  {
   "cell_type": "markdown",
   "id": "5d3a0cbc",
   "metadata": {},
   "source": [
    "There are 2 transactions where 200 packets of chips are purchased in one transaction by the same customer. Let examine other transactions by this customer"
   ]
  },
  {
   "cell_type": "code",
   "execution_count": 9,
   "id": "3b5d86ca",
   "metadata": {},
   "outputs": [
    {
     "data": {
      "text/html": [
       "<div>\n",
       "<style scoped>\n",
       "    .dataframe tbody tr th:only-of-type {\n",
       "        vertical-align: middle;\n",
       "    }\n",
       "\n",
       "    .dataframe tbody tr th {\n",
       "        vertical-align: top;\n",
       "    }\n",
       "\n",
       "    .dataframe thead th {\n",
       "        text-align: right;\n",
       "    }\n",
       "</style>\n",
       "<table border=\"1\" class=\"dataframe\">\n",
       "  <thead>\n",
       "    <tr style=\"text-align: right;\">\n",
       "      <th></th>\n",
       "      <th>DATE</th>\n",
       "      <th>STORE_NBR</th>\n",
       "      <th>LYLTY_CARD_NBR</th>\n",
       "      <th>TXN_ID</th>\n",
       "      <th>PROD_NBR</th>\n",
       "      <th>PROD_NAME</th>\n",
       "      <th>PROD_QTY</th>\n",
       "      <th>TOT_SALES</th>\n",
       "    </tr>\n",
       "  </thead>\n",
       "  <tbody>\n",
       "    <tr>\n",
       "      <th>69762</th>\n",
       "      <td>43331</td>\n",
       "      <td>226</td>\n",
       "      <td>226000</td>\n",
       "      <td>226201</td>\n",
       "      <td>4</td>\n",
       "      <td>Dorito Corn Chp     Supreme 380g</td>\n",
       "      <td>200</td>\n",
       "      <td>650.0</td>\n",
       "    </tr>\n",
       "    <tr>\n",
       "      <th>69763</th>\n",
       "      <td>43605</td>\n",
       "      <td>226</td>\n",
       "      <td>226000</td>\n",
       "      <td>226210</td>\n",
       "      <td>4</td>\n",
       "      <td>Dorito Corn Chp     Supreme 380g</td>\n",
       "      <td>200</td>\n",
       "      <td>650.0</td>\n",
       "    </tr>\n",
       "  </tbody>\n",
       "</table>\n",
       "</div>"
      ],
      "text/plain": [
       "        DATE  STORE_NBR  LYLTY_CARD_NBR  TXN_ID  PROD_NBR  \\\n",
       "69762  43331        226          226000  226201         4   \n",
       "69763  43605        226          226000  226210         4   \n",
       "\n",
       "                              PROD_NAME  PROD_QTY  TOT_SALES  \n",
       "69762  Dorito Corn Chp     Supreme 380g       200      650.0  \n",
       "69763  Dorito Corn Chp     Supreme 380g       200      650.0  "
      ]
     },
     "execution_count": 9,
     "metadata": {},
     "output_type": "execute_result"
    }
   ],
   "source": [
    "transaction_data.loc[transaction_data['LYLTY_CARD_NBR'] == 226000]"
   ]
  },
  {
   "cell_type": "markdown",
   "id": "9ebf431f",
   "metadata": {},
   "source": [
    "There is no other transactions by this customer. So it is not an ordinary retail customer. I will remove this customer from further analysis"
   ]
  },
  {
   "cell_type": "code",
   "execution_count": 10,
   "id": "82eb8d81",
   "metadata": {},
   "outputs": [
    {
     "data": {
      "text/html": [
       "<div>\n",
       "<style scoped>\n",
       "    .dataframe tbody tr th:only-of-type {\n",
       "        vertical-align: middle;\n",
       "    }\n",
       "\n",
       "    .dataframe tbody tr th {\n",
       "        vertical-align: top;\n",
       "    }\n",
       "\n",
       "    .dataframe thead th {\n",
       "        text-align: right;\n",
       "    }\n",
       "</style>\n",
       "<table border=\"1\" class=\"dataframe\">\n",
       "  <thead>\n",
       "    <tr style=\"text-align: right;\">\n",
       "      <th></th>\n",
       "      <th>DATE</th>\n",
       "      <th>STORE_NBR</th>\n",
       "      <th>LYLTY_CARD_NBR</th>\n",
       "      <th>TXN_ID</th>\n",
       "      <th>PROD_NBR</th>\n",
       "      <th>PROD_QTY</th>\n",
       "      <th>TOT_SALES</th>\n",
       "    </tr>\n",
       "  </thead>\n",
       "  <tbody>\n",
       "    <tr>\n",
       "      <th>count</th>\n",
       "      <td>264834.000000</td>\n",
       "      <td>264834.000000</td>\n",
       "      <td>2.648340e+05</td>\n",
       "      <td>2.648340e+05</td>\n",
       "      <td>264834.000000</td>\n",
       "      <td>264834.000000</td>\n",
       "      <td>264834.000000</td>\n",
       "    </tr>\n",
       "    <tr>\n",
       "      <th>mean</th>\n",
       "      <td>43464.036230</td>\n",
       "      <td>135.079423</td>\n",
       "      <td>1.355488e+05</td>\n",
       "      <td>1.351576e+05</td>\n",
       "      <td>56.583554</td>\n",
       "      <td>1.905813</td>\n",
       "      <td>7.297929</td>\n",
       "    </tr>\n",
       "    <tr>\n",
       "      <th>std</th>\n",
       "      <td>105.389007</td>\n",
       "      <td>76.784063</td>\n",
       "      <td>8.057990e+04</td>\n",
       "      <td>7.813292e+04</td>\n",
       "      <td>32.826444</td>\n",
       "      <td>0.343436</td>\n",
       "      <td>2.527142</td>\n",
       "    </tr>\n",
       "    <tr>\n",
       "      <th>min</th>\n",
       "      <td>43282.000000</td>\n",
       "      <td>1.000000</td>\n",
       "      <td>1.000000e+03</td>\n",
       "      <td>1.000000e+00</td>\n",
       "      <td>1.000000</td>\n",
       "      <td>1.000000</td>\n",
       "      <td>1.500000</td>\n",
       "    </tr>\n",
       "    <tr>\n",
       "      <th>25%</th>\n",
       "      <td>43373.000000</td>\n",
       "      <td>70.000000</td>\n",
       "      <td>7.002100e+04</td>\n",
       "      <td>6.760050e+04</td>\n",
       "      <td>28.000000</td>\n",
       "      <td>2.000000</td>\n",
       "      <td>5.400000</td>\n",
       "    </tr>\n",
       "    <tr>\n",
       "      <th>50%</th>\n",
       "      <td>43464.000000</td>\n",
       "      <td>130.000000</td>\n",
       "      <td>1.303570e+05</td>\n",
       "      <td>1.351365e+05</td>\n",
       "      <td>56.000000</td>\n",
       "      <td>2.000000</td>\n",
       "      <td>7.400000</td>\n",
       "    </tr>\n",
       "    <tr>\n",
       "      <th>75%</th>\n",
       "      <td>43555.000000</td>\n",
       "      <td>203.000000</td>\n",
       "      <td>2.030940e+05</td>\n",
       "      <td>2.026998e+05</td>\n",
       "      <td>85.000000</td>\n",
       "      <td>2.000000</td>\n",
       "      <td>9.200000</td>\n",
       "    </tr>\n",
       "    <tr>\n",
       "      <th>max</th>\n",
       "      <td>43646.000000</td>\n",
       "      <td>272.000000</td>\n",
       "      <td>2.373711e+06</td>\n",
       "      <td>2.415841e+06</td>\n",
       "      <td>114.000000</td>\n",
       "      <td>5.000000</td>\n",
       "      <td>29.500000</td>\n",
       "    </tr>\n",
       "  </tbody>\n",
       "</table>\n",
       "</div>"
      ],
      "text/plain": [
       "                DATE      STORE_NBR  LYLTY_CARD_NBR        TXN_ID  \\\n",
       "count  264834.000000  264834.000000    2.648340e+05  2.648340e+05   \n",
       "mean    43464.036230     135.079423    1.355488e+05  1.351576e+05   \n",
       "std       105.389007      76.784063    8.057990e+04  7.813292e+04   \n",
       "min     43282.000000       1.000000    1.000000e+03  1.000000e+00   \n",
       "25%     43373.000000      70.000000    7.002100e+04  6.760050e+04   \n",
       "50%     43464.000000     130.000000    1.303570e+05  1.351365e+05   \n",
       "75%     43555.000000     203.000000    2.030940e+05  2.026998e+05   \n",
       "max     43646.000000     272.000000    2.373711e+06  2.415841e+06   \n",
       "\n",
       "            PROD_NBR       PROD_QTY      TOT_SALES  \n",
       "count  264834.000000  264834.000000  264834.000000  \n",
       "mean       56.583554       1.905813       7.297929  \n",
       "std        32.826444       0.343436       2.527142  \n",
       "min         1.000000       1.000000       1.500000  \n",
       "25%        28.000000       2.000000       5.400000  \n",
       "50%        56.000000       2.000000       7.400000  \n",
       "75%        85.000000       2.000000       9.200000  \n",
       "max       114.000000       5.000000      29.500000  "
      ]
     },
     "execution_count": 10,
     "metadata": {},
     "output_type": "execute_result"
    }
   ],
   "source": [
    "transaction_data = transaction_data.drop(transaction_data[transaction_data.LYLTY_CARD_NBR == 226000].index)\n",
    "transaction_data.describe()"
   ]
  },
  {
   "cell_type": "markdown",
   "id": "d8e418dd",
   "metadata": {},
   "source": [
    "Now check unique values of each column"
   ]
  },
  {
   "cell_type": "code",
   "execution_count": 11,
   "id": "8ba54b4b",
   "metadata": {},
   "outputs": [
    {
     "name": "stdout",
     "output_type": "stream",
     "text": [
      "No of unique values in column DATE are: 364\n",
      "No of unique values in column STORE_NBR are: 272\n",
      "No of unique values in column LYLTY_CARD_NBR are: 72636\n",
      "No of unique values in column TXN_ID are: 263125\n",
      "No of unique values in column PROD_NBR are: 114\n",
      "No of unique values in column PROD_NAME are: 114\n",
      "No of unique values in column PROD_QTY are: 5\n",
      "No of unique values in column TOT_SALES are: 111\n"
     ]
    }
   ],
   "source": [
    "for column in transaction_data.columns.to_list():\n",
    "    print(\"No of unique values in column \" + column + \" are: \" + str(len(np.unique(transaction_data[column]))))"
   ]
  },
  {
   "cell_type": "code",
   "execution_count": 12,
   "id": "a272a0ab",
   "metadata": {},
   "outputs": [
    {
     "data": {
      "text/plain": [
       "0"
      ]
     },
     "execution_count": 12,
     "metadata": {},
     "output_type": "execute_result"
    }
   ],
   "source": [
    "transaction_data.isnull().sum().sum()"
   ]
  },
  {
   "cell_type": "markdown",
   "id": "e25bcd21",
   "metadata": {},
   "source": [
    "No null values! Now check if I am looking at the right products by examining PROD_NAME"
   ]
  },
  {
   "cell_type": "code",
   "execution_count": 13,
   "id": "b73ec6fe",
   "metadata": {},
   "outputs": [
    {
     "data": {
      "text/plain": [
       "array(['Burger Rings 220g', 'CCs Nacho Cheese    175g',\n",
       "       'CCs Original 175g', 'CCs Tasty Cheese    175g',\n",
       "       'Cheetos Chs & Bacon Balls 190g', 'Cheetos Puffs 165g',\n",
       "       'Cheezels Cheese 330g', 'Cheezels Cheese Box 125g',\n",
       "       'Cobs Popd Sea Salt  Chips 110g',\n",
       "       'Cobs Popd Sour Crm  &Chives Chips 110g',\n",
       "       'Cobs Popd Swt/Chlli &Sr/Cream Chips 110g',\n",
       "       'Dorito Corn Chp     Supreme 380g',\n",
       "       'Doritos Cheese      Supreme 330g',\n",
       "       'Doritos Corn Chip Mexican Jalapeno 150g',\n",
       "       'Doritos Corn Chip Southern Chicken 150g',\n",
       "       'Doritos Corn Chips  Cheese Supreme 170g',\n",
       "       'Doritos Corn Chips  Nacho Cheese 170g',\n",
       "       'Doritos Corn Chips  Original 170g', 'Doritos Mexicana    170g',\n",
       "       'Doritos Salsa       Medium 300g', 'Doritos Salsa Mild  300g',\n",
       "       'French Fries Potato Chips 175g',\n",
       "       'Grain Waves         Sweet Chilli 210g',\n",
       "       'Grain Waves Sour    Cream&Chives 210G',\n",
       "       'GrnWves Plus Btroot & Chilli Jam 180g',\n",
       "       'Infuzions BBQ Rib   Prawn Crackers 110g',\n",
       "       'Infuzions Mango     Chutny Papadums 70g',\n",
       "       'Infuzions SourCream&Herbs Veg Strws 110g',\n",
       "       'Infuzions Thai SweetChili PotatoMix 110g',\n",
       "       'Infzns Crn Crnchers Tangy Gcamole 110g',\n",
       "       'Kettle 135g Swt Pot Sea Salt', 'Kettle Chilli 175g',\n",
       "       'Kettle Honey Soy    Chicken 175g',\n",
       "       'Kettle Mozzarella   Basil & Pesto 175g', 'Kettle Original 175g',\n",
       "       'Kettle Sea Salt     And Vinegar 175g',\n",
       "       'Kettle Sensations   BBQ&Maple 150g',\n",
       "       'Kettle Sensations   Camembert & Fig 150g',\n",
       "       'Kettle Sensations   Siracha Lime 150g',\n",
       "       'Kettle Sweet Chilli And Sour Cream 175g',\n",
       "       'Kettle Tortilla ChpsBtroot&Ricotta 150g',\n",
       "       'Kettle Tortilla ChpsFeta&Garlic 150g',\n",
       "       'Kettle Tortilla ChpsHny&Jlpno Chili 150g',\n",
       "       'NCC Sour Cream &    Garden Chives 175g',\n",
       "       'Natural Chip        Compny SeaSalt175g',\n",
       "       'Natural Chip Co     Tmato Hrb&Spce 175g',\n",
       "       'Natural ChipCo      Hony Soy Chckn175g',\n",
       "       'Natural ChipCo Sea  Salt & Vinegr 175g',\n",
       "       'Old El Paso Salsa   Dip Chnky Tom Ht300g',\n",
       "       'Old El Paso Salsa   Dip Tomato Med 300g',\n",
       "       'Old El Paso Salsa   Dip Tomato Mild 300g',\n",
       "       'Pringles Barbeque   134g', 'Pringles Chicken    Salt Crips 134g',\n",
       "       'Pringles Mystery    Flavour 134g',\n",
       "       'Pringles Original   Crisps 134g', 'Pringles Slt Vingar 134g',\n",
       "       'Pringles SourCream  Onion 134g',\n",
       "       'Pringles Sthrn FriedChicken 134g', 'Pringles Sweet&Spcy BBQ 134g',\n",
       "       'RRD Chilli&         Coconut 150g',\n",
       "       'RRD Honey Soy       Chicken 165g', 'RRD Lime & Pepper   165g',\n",
       "       'RRD Pc Sea Salt     165g', 'RRD SR Slow Rst     Pork Belly 150g',\n",
       "       'RRD Salt & Vinegar  165g', 'RRD Steak &         Chimuchurri 150g',\n",
       "       'RRD Sweet Chilli &  Sour Cream 165g',\n",
       "       'Red Rock Deli Chikn&Garlic Aioli 150g',\n",
       "       'Red Rock Deli SR    Salsa & Mzzrlla 150g',\n",
       "       'Red Rock Deli Sp    Salt & Truffle 150G',\n",
       "       'Red Rock Deli Thai  Chilli&Lime 150g',\n",
       "       'Smith Crinkle Cut   Bolognese 150g',\n",
       "       'Smith Crinkle Cut   Mac N Cheese 150g',\n",
       "       'Smiths Chip Thinly  Cut Original 175g',\n",
       "       'Smiths Chip Thinly  CutSalt/Vinegr175g',\n",
       "       'Smiths Chip Thinly  S/Cream&Onion 175g',\n",
       "       'Smiths Crinkle      Original 330g',\n",
       "       'Smiths Crinkle Chips Salt & Vinegar 330g',\n",
       "       'Smiths Crinkle Cut  Chips Barbecue 170g',\n",
       "       'Smiths Crinkle Cut  Chips Chicken 170g',\n",
       "       'Smiths Crinkle Cut  Chips Chs&Onion170g',\n",
       "       'Smiths Crinkle Cut  Chips Original 170g',\n",
       "       'Smiths Crinkle Cut  French OnionDip 150g',\n",
       "       'Smiths Crinkle Cut  Salt & Vinegar 170g',\n",
       "       'Smiths Crinkle Cut  Snag&Sauce 150g',\n",
       "       'Smiths Crinkle Cut  Tomato Salsa 150g',\n",
       "       'Smiths Crnkle Chip  Orgnl Big Bag 380g',\n",
       "       'Smiths Thinly       Swt Chli&S/Cream175G',\n",
       "       'Smiths Thinly Cut   Roast Chicken 175g',\n",
       "       'Snbts Whlgrn Crisps Cheddr&Mstrd 90g',\n",
       "       'Sunbites Whlegrn    Crisps Frch/Onin 90g',\n",
       "       'Thins Chips         Originl saltd 175g',\n",
       "       'Thins Chips Light&  Tangy 175g',\n",
       "       'Thins Chips Salt &  Vinegar 175g',\n",
       "       'Thins Chips Seasonedchicken 175g',\n",
       "       'Thins Potato Chips  Hot & Spicy 175g',\n",
       "       'Tostitos Lightly    Salted 175g',\n",
       "       'Tostitos Smoked     Chipotle 175g',\n",
       "       'Tostitos Splash Of  Lime 175g', 'Twisties Cheese     270g',\n",
       "       'Twisties Cheese     Burger 250g', 'Twisties Chicken270g',\n",
       "       'Tyrrells Crisps     Ched & Chives 165g',\n",
       "       'Tyrrells Crisps     Lightly Salted 165g',\n",
       "       'WW Crinkle Cut      Chicken 175g',\n",
       "       'WW Crinkle Cut      Original 175g',\n",
       "       'WW D/Style Chip     Sea Salt 200g',\n",
       "       'WW Original Corn    Chips 200g', 'WW Original Stacked Chips 160g',\n",
       "       'WW Sour Cream &OnionStacked Chips 160g',\n",
       "       'WW Supreme Cheese   Corn Chips 200g',\n",
       "       'Woolworths Cheese   Rings 190g', 'Woolworths Medium   Salsa 300g',\n",
       "       'Woolworths Mild     Salsa 300g'], dtype=object)"
      ]
     },
     "execution_count": 13,
     "metadata": {},
     "output_type": "execute_result"
    }
   ],
   "source": [
    "np.unique(transaction_data['PROD_NAME'])"
   ]
  },
  {
   "cell_type": "markdown",
   "id": "4dad5b69",
   "metadata": {},
   "source": [
    "As the Client is the Category of Manager for Chips, I should only focus on the chips product. The salsa products should be removed."
   ]
  },
  {
   "cell_type": "code",
   "execution_count": 14,
   "id": "2ab8eb1c",
   "metadata": {},
   "outputs": [
    {
     "name": "stdout",
     "output_type": "stream",
     "text": [
      "<class 'pandas.core.frame.DataFrame'>\n",
      "Int64Index: 246740 entries, 0 to 264835\n",
      "Data columns (total 8 columns):\n",
      " #   Column          Non-Null Count   Dtype   \n",
      "---  ------          --------------   -----   \n",
      " 0   DATE            246740 non-null  int32   \n",
      " 1   STORE_NBR       246740 non-null  int32   \n",
      " 2   LYLTY_CARD_NBR  246740 non-null  int32   \n",
      " 3   TXN_ID          246740 non-null  int32   \n",
      " 4   PROD_NBR        246740 non-null  int32   \n",
      " 5   PROD_NAME       246740 non-null  category\n",
      " 6   PROD_QTY        246740 non-null  int32   \n",
      " 7   TOT_SALES       246740 non-null  float32 \n",
      "dtypes: category(1), float32(1), int32(6)\n",
      "memory usage: 8.7 MB\n"
     ]
    }
   ],
   "source": [
    "discard = [\"Salsa\"]\n",
    "transaction_data = transaction_data[transaction_data['PROD_NAME'].apply(lambda x: 'Salsa' not in x)]\n",
    "transaction_data.info()"
   ]
  },
  {
   "cell_type": "markdown",
   "id": "f7f48461",
   "metadata": {},
   "source": [
    "Now let's create an other attribute to get pack size from PROD_NAME"
   ]
  },
  {
   "cell_type": "code",
   "execution_count": 95,
   "id": "b59042ed",
   "metadata": {},
   "outputs": [
    {
     "data": {
      "text/html": [
       "<div>\n",
       "<style scoped>\n",
       "    .dataframe tbody tr th:only-of-type {\n",
       "        vertical-align: middle;\n",
       "    }\n",
       "\n",
       "    .dataframe tbody tr th {\n",
       "        vertical-align: top;\n",
       "    }\n",
       "\n",
       "    .dataframe thead th {\n",
       "        text-align: right;\n",
       "    }\n",
       "</style>\n",
       "<table border=\"1\" class=\"dataframe\">\n",
       "  <thead>\n",
       "    <tr style=\"text-align: right;\">\n",
       "      <th></th>\n",
       "      <th>DATE</th>\n",
       "      <th>STORE_NBR</th>\n",
       "      <th>LYLTY_CARD_NBR</th>\n",
       "      <th>TXN_ID</th>\n",
       "      <th>PROD_NBR</th>\n",
       "      <th>PROD_NAME</th>\n",
       "      <th>PROD_QTY</th>\n",
       "      <th>TOT_SALES</th>\n",
       "      <th>PACK_SIZE</th>\n",
       "    </tr>\n",
       "  </thead>\n",
       "  <tbody>\n",
       "    <tr>\n",
       "      <th>0</th>\n",
       "      <td>43390</td>\n",
       "      <td>1</td>\n",
       "      <td>1000</td>\n",
       "      <td>1</td>\n",
       "      <td>5</td>\n",
       "      <td>Natural Chip        Compny SeaSalt175g</td>\n",
       "      <td>2</td>\n",
       "      <td>6.0</td>\n",
       "      <td>175</td>\n",
       "    </tr>\n",
       "    <tr>\n",
       "      <th>1</th>\n",
       "      <td>43599</td>\n",
       "      <td>1</td>\n",
       "      <td>1307</td>\n",
       "      <td>348</td>\n",
       "      <td>66</td>\n",
       "      <td>CCs Nacho Cheese    175g</td>\n",
       "      <td>3</td>\n",
       "      <td>6.3</td>\n",
       "      <td>175</td>\n",
       "    </tr>\n",
       "    <tr>\n",
       "      <th>2</th>\n",
       "      <td>43605</td>\n",
       "      <td>1</td>\n",
       "      <td>1343</td>\n",
       "      <td>383</td>\n",
       "      <td>61</td>\n",
       "      <td>Smiths Crinkle Cut  Chips Chicken 170g</td>\n",
       "      <td>2</td>\n",
       "      <td>2.9</td>\n",
       "      <td>170</td>\n",
       "    </tr>\n",
       "    <tr>\n",
       "      <th>3</th>\n",
       "      <td>43329</td>\n",
       "      <td>2</td>\n",
       "      <td>2373</td>\n",
       "      <td>974</td>\n",
       "      <td>69</td>\n",
       "      <td>Smiths Chip Thinly  S/Cream&amp;Onion 175g</td>\n",
       "      <td>5</td>\n",
       "      <td>15.0</td>\n",
       "      <td>175</td>\n",
       "    </tr>\n",
       "    <tr>\n",
       "      <th>4</th>\n",
       "      <td>43330</td>\n",
       "      <td>2</td>\n",
       "      <td>2426</td>\n",
       "      <td>1038</td>\n",
       "      <td>108</td>\n",
       "      <td>Kettle Tortilla ChpsHny&amp;Jlpno Chili 150g</td>\n",
       "      <td>3</td>\n",
       "      <td>13.8</td>\n",
       "      <td>150</td>\n",
       "    </tr>\n",
       "  </tbody>\n",
       "</table>\n",
       "</div>"
      ],
      "text/plain": [
       "    DATE  STORE_NBR  LYLTY_CARD_NBR  TXN_ID  PROD_NBR  \\\n",
       "0  43390          1            1000       1         5   \n",
       "1  43599          1            1307     348        66   \n",
       "2  43605          1            1343     383        61   \n",
       "3  43329          2            2373     974        69   \n",
       "4  43330          2            2426    1038       108   \n",
       "\n",
       "                                  PROD_NAME  PROD_QTY  TOT_SALES PACK_SIZE  \n",
       "0    Natural Chip        Compny SeaSalt175g         2        6.0       175  \n",
       "1                  CCs Nacho Cheese    175g         3        6.3       175  \n",
       "2    Smiths Crinkle Cut  Chips Chicken 170g         2        2.9       170  \n",
       "3    Smiths Chip Thinly  S/Cream&Onion 175g         5       15.0       175  \n",
       "4  Kettle Tortilla ChpsHny&Jlpno Chili 150g         3       13.8       150  "
      ]
     },
     "execution_count": 95,
     "metadata": {},
     "output_type": "execute_result"
    }
   ],
   "source": [
    "transaction_data['PROD_NAME'] = transaction_data['PROD_NAME'].astype(str)\n",
    "transaction_data['PACK_SIZE'] = transaction_data['PROD_NAME'].str.lower().str.extract(r'(\\d+)') #extract with gram\n",
    "transaction_data.head()"
   ]
  },
  {
   "cell_type": "markdown",
   "id": "8c5c3be6",
   "metadata": {},
   "source": [
    "Now run the summary to check the pack size gram!"
   ]
  },
  {
   "cell_type": "code",
   "execution_count": 99,
   "id": "ac7292d6",
   "metadata": {},
   "outputs": [
    {
     "name": "stdout",
     "output_type": "stream",
     "text": [
      "<class 'pandas.core.frame.DataFrame'>\n",
      "Int64Index: 246740 entries, 0 to 264835\n",
      "Data columns (total 9 columns):\n",
      " #   Column          Non-Null Count   Dtype  \n",
      "---  ------          --------------   -----  \n",
      " 0   DATE            246740 non-null  int32  \n",
      " 1   STORE_NBR       246740 non-null  int32  \n",
      " 2   LYLTY_CARD_NBR  246740 non-null  int32  \n",
      " 3   TXN_ID          246740 non-null  int32  \n",
      " 4   PROD_NBR        246740 non-null  int32  \n",
      " 5   PROD_NAME       246740 non-null  object \n",
      " 6   PROD_QTY        246740 non-null  int32  \n",
      " 7   TOT_SALES       246740 non-null  float32\n",
      " 8   PACK_SIZE       246740 non-null  object \n",
      "dtypes: float32(1), int32(6), object(2)\n",
      "memory usage: 12.2+ MB\n"
     ]
    }
   ],
   "source": [
    "transaction_data.info()"
   ]
  },
  {
   "cell_type": "code",
   "execution_count": 89,
   "id": "fcdd5867",
   "metadata": {},
   "outputs": [],
   "source": [
    "#Change pack_size to float16\n",
    "transaction_data['PACK_SIZE'] = transaction_data['PACK_SIZE'].astype('float16') #it is not numeric"
   ]
  },
  {
   "cell_type": "markdown",
   "id": "b793e919",
   "metadata": {},
   "source": [
    "Let's count the number of transactions by pack size"
   ]
  },
  {
   "cell_type": "code",
   "execution_count": 96,
   "id": "9efd6cff",
   "metadata": {},
   "outputs": [
    {
     "data": {
      "text/plain": [
       "Counter({'175': 66390,\n",
       "         '170': 19983,\n",
       "         '150': 40203,\n",
       "         '330': 12540,\n",
       "         '210': 6272,\n",
       "         '270': 6285,\n",
       "         '220': 1564,\n",
       "         '125': 1454,\n",
       "         '110': 22387,\n",
       "         '134': 25102,\n",
       "         '380': 6416,\n",
       "         '180': 1468,\n",
       "         '165': 15297,\n",
       "         '135': 3257,\n",
       "         '250': 3169,\n",
       "         '200': 4473,\n",
       "         '160': 2970,\n",
       "         '190': 2995,\n",
       "         '90': 3008,\n",
       "         '70': 1507})"
      ]
     },
     "execution_count": 96,
     "metadata": {},
     "output_type": "execute_result"
    }
   ],
   "source": [
    "size_freq = Counter(transaction_data['PACK_SIZE'])\n",
    "size_freq"
   ]
  },
  {
   "cell_type": "markdown",
   "id": "5cb697ae",
   "metadata": {},
   "source": [
    "It looks reasonable. Now let's create the brand_name column by extracting the first word"
   ]
  },
  {
   "cell_type": "code",
   "execution_count": 106,
   "id": "aec49033",
   "metadata": {},
   "outputs": [
    {
     "data": {
      "text/html": [
       "<div>\n",
       "<style scoped>\n",
       "    .dataframe tbody tr th:only-of-type {\n",
       "        vertical-align: middle;\n",
       "    }\n",
       "\n",
       "    .dataframe tbody tr th {\n",
       "        vertical-align: top;\n",
       "    }\n",
       "\n",
       "    .dataframe thead th {\n",
       "        text-align: right;\n",
       "    }\n",
       "</style>\n",
       "<table border=\"1\" class=\"dataframe\">\n",
       "  <thead>\n",
       "    <tr style=\"text-align: right;\">\n",
       "      <th></th>\n",
       "      <th>DATE</th>\n",
       "      <th>STORE_NBR</th>\n",
       "      <th>LYLTY_CARD_NBR</th>\n",
       "      <th>TXN_ID</th>\n",
       "      <th>PROD_NBR</th>\n",
       "      <th>PROD_NAME</th>\n",
       "      <th>PROD_QTY</th>\n",
       "      <th>TOT_SALES</th>\n",
       "      <th>PACK_SIZE</th>\n",
       "      <th>BRAND_NAME</th>\n",
       "    </tr>\n",
       "  </thead>\n",
       "  <tbody>\n",
       "    <tr>\n",
       "      <th>0</th>\n",
       "      <td>43390</td>\n",
       "      <td>1</td>\n",
       "      <td>1000</td>\n",
       "      <td>1</td>\n",
       "      <td>5</td>\n",
       "      <td>Natural Chip        Compny SeaSalt175g</td>\n",
       "      <td>2</td>\n",
       "      <td>6.0</td>\n",
       "      <td>175</td>\n",
       "      <td>Natural</td>\n",
       "    </tr>\n",
       "    <tr>\n",
       "      <th>1</th>\n",
       "      <td>43599</td>\n",
       "      <td>1</td>\n",
       "      <td>1307</td>\n",
       "      <td>348</td>\n",
       "      <td>66</td>\n",
       "      <td>CCs Nacho Cheese    175g</td>\n",
       "      <td>3</td>\n",
       "      <td>6.3</td>\n",
       "      <td>175</td>\n",
       "      <td>CCs</td>\n",
       "    </tr>\n",
       "    <tr>\n",
       "      <th>2</th>\n",
       "      <td>43605</td>\n",
       "      <td>1</td>\n",
       "      <td>1343</td>\n",
       "      <td>383</td>\n",
       "      <td>61</td>\n",
       "      <td>Smiths Crinkle Cut  Chips Chicken 170g</td>\n",
       "      <td>2</td>\n",
       "      <td>2.9</td>\n",
       "      <td>170</td>\n",
       "      <td>Smiths</td>\n",
       "    </tr>\n",
       "    <tr>\n",
       "      <th>3</th>\n",
       "      <td>43329</td>\n",
       "      <td>2</td>\n",
       "      <td>2373</td>\n",
       "      <td>974</td>\n",
       "      <td>69</td>\n",
       "      <td>Smiths Chip Thinly  S/Cream&amp;Onion 175g</td>\n",
       "      <td>5</td>\n",
       "      <td>15.0</td>\n",
       "      <td>175</td>\n",
       "      <td>Smiths</td>\n",
       "    </tr>\n",
       "    <tr>\n",
       "      <th>4</th>\n",
       "      <td>43330</td>\n",
       "      <td>2</td>\n",
       "      <td>2426</td>\n",
       "      <td>1038</td>\n",
       "      <td>108</td>\n",
       "      <td>Kettle Tortilla ChpsHny&amp;Jlpno Chili 150g</td>\n",
       "      <td>3</td>\n",
       "      <td>13.8</td>\n",
       "      <td>150</td>\n",
       "      <td>Kettle</td>\n",
       "    </tr>\n",
       "  </tbody>\n",
       "</table>\n",
       "</div>"
      ],
      "text/plain": [
       "    DATE  STORE_NBR  LYLTY_CARD_NBR  TXN_ID  PROD_NBR  \\\n",
       "0  43390          1            1000       1         5   \n",
       "1  43599          1            1307     348        66   \n",
       "2  43605          1            1343     383        61   \n",
       "3  43329          2            2373     974        69   \n",
       "4  43330          2            2426    1038       108   \n",
       "\n",
       "                                  PROD_NAME  PROD_QTY  TOT_SALES PACK_SIZE  \\\n",
       "0    Natural Chip        Compny SeaSalt175g         2        6.0       175   \n",
       "1                  CCs Nacho Cheese    175g         3        6.3       175   \n",
       "2    Smiths Crinkle Cut  Chips Chicken 170g         2        2.9       170   \n",
       "3    Smiths Chip Thinly  S/Cream&Onion 175g         5       15.0       175   \n",
       "4  Kettle Tortilla ChpsHny&Jlpno Chili 150g         3       13.8       150   \n",
       "\n",
       "  BRAND_NAME  \n",
       "0    Natural  \n",
       "1        CCs  \n",
       "2     Smiths  \n",
       "3     Smiths  \n",
       "4     Kettle  "
      ]
     },
     "execution_count": 106,
     "metadata": {},
     "output_type": "execute_result"
    }
   ],
   "source": [
    "transaction_data['BRAND_NAME'] = transaction_data['PROD_NAME'].str.partition()[0]\n",
    "transaction_data.head()"
   ]
  },
  {
   "cell_type": "code",
   "execution_count": 115,
   "id": "49dcc64a",
   "metadata": {},
   "outputs": [
    {
     "data": {
      "text/plain": [
       "array(['Burger', 'CCs', 'Cheetos', 'Cheezels', 'Cobs', 'Doritos',\n",
       "       'French', 'Grainwaves', 'Infuzions', 'Kettle', 'NCC', 'Natural',\n",
       "       'Pringles', 'RED', 'Red', 'Smiths', 'Sunbites', 'Thins',\n",
       "       'Tostitos', 'Twisties', 'Tyrrells', 'Woolworths'], dtype=object)"
      ]
     },
     "execution_count": 115,
     "metadata": {},
     "output_type": "execute_result"
    }
   ],
   "source": [
    "#Check brands\n",
    "np.unique(transaction_data['BRAND_NAME'])"
   ]
  },
  {
   "cell_type": "markdown",
   "id": "3e6f20a7",
   "metadata": {},
   "source": [
    "Some brand names look like they are of the same brands:\n",
    "- Dorito and Doritos, which are both Doritos\n",
    "- Grain and GrnWves, which are both Grainwaves\n",
    "- Red and RRD, which are both Red Rock Deli Chips\n",
    "- Infuzions and Infzns, which are both Infuzions Corn Crunchers\n",
    "- Smith and Smiths, which are both Smiths\n",
    "- Snbts and Sunbites, which are both Sunbites\n",
    "- WW and Woolworths, which are both Woolworths"
   ]
  },
  {
   "cell_type": "code",
   "execution_count": 117,
   "id": "8ae6d636",
   "metadata": {},
   "outputs": [
    {
     "data": {
      "text/plain": [
       "array(['Burger', 'CCs', 'Cheetos', 'Cheezels', 'Cobs', 'Doritos',\n",
       "       'French', 'Grainwaves', 'Infuzions', 'Kettle', 'NCC', 'Natural',\n",
       "       'Pringles', 'Red', 'Smiths', 'Sunbites', 'Thins', 'Tostitos',\n",
       "       'Twisties', 'Tyrrells', 'Woolworths'], dtype=object)"
      ]
     },
     "execution_count": 117,
     "metadata": {},
     "output_type": "execute_result"
    }
   ],
   "source": [
    "value_replaced = ['Dorito','Grain','GrnWves','RRD','Infzns','Smith','Snbts','WW']\n",
    "new_values = ['Doritos','Grainwaves','Grainwaves','Red','Infuzions','Smiths','Sunbites','Woolworths']\n",
    "for i in range(len(value_replaced)):\n",
    "    transaction_data['BRAND_NAME'].replace(value_replaced[i],new_values[i],inplace = True)\n",
    "np.unique(transaction_data['BRAND_NAME'])"
   ]
  },
  {
   "cell_type": "markdown",
   "id": "86f2b1d4",
   "metadata": {},
   "source": [
    "Now let's move to customer data!"
   ]
  },
  {
   "cell_type": "markdown",
   "id": "e140cff5",
   "metadata": {},
   "source": [
    "### 1.2. Cleaning customer data "
   ]
  },
  {
   "cell_type": "code",
   "execution_count": 119,
   "id": "81ee2c0e",
   "metadata": {},
   "outputs": [
    {
     "data": {
      "text/html": [
       "<div>\n",
       "<style scoped>\n",
       "    .dataframe tbody tr th:only-of-type {\n",
       "        vertical-align: middle;\n",
       "    }\n",
       "\n",
       "    .dataframe tbody tr th {\n",
       "        vertical-align: top;\n",
       "    }\n",
       "\n",
       "    .dataframe thead th {\n",
       "        text-align: right;\n",
       "    }\n",
       "</style>\n",
       "<table border=\"1\" class=\"dataframe\">\n",
       "  <thead>\n",
       "    <tr style=\"text-align: right;\">\n",
       "      <th></th>\n",
       "      <th>LYLTY_CARD_NBR</th>\n",
       "      <th>LIFESTAGE</th>\n",
       "      <th>PREMIUM_CUSTOMER</th>\n",
       "    </tr>\n",
       "  </thead>\n",
       "  <tbody>\n",
       "    <tr>\n",
       "      <th>0</th>\n",
       "      <td>1000</td>\n",
       "      <td>YOUNG SINGLES/COUPLES</td>\n",
       "      <td>Premium</td>\n",
       "    </tr>\n",
       "    <tr>\n",
       "      <th>1</th>\n",
       "      <td>1002</td>\n",
       "      <td>YOUNG SINGLES/COUPLES</td>\n",
       "      <td>Mainstream</td>\n",
       "    </tr>\n",
       "    <tr>\n",
       "      <th>2</th>\n",
       "      <td>1003</td>\n",
       "      <td>YOUNG FAMILIES</td>\n",
       "      <td>Budget</td>\n",
       "    </tr>\n",
       "    <tr>\n",
       "      <th>3</th>\n",
       "      <td>1004</td>\n",
       "      <td>OLDER SINGLES/COUPLES</td>\n",
       "      <td>Mainstream</td>\n",
       "    </tr>\n",
       "    <tr>\n",
       "      <th>4</th>\n",
       "      <td>1005</td>\n",
       "      <td>MIDAGE SINGLES/COUPLES</td>\n",
       "      <td>Mainstream</td>\n",
       "    </tr>\n",
       "  </tbody>\n",
       "</table>\n",
       "</div>"
      ],
      "text/plain": [
       "   LYLTY_CARD_NBR               LIFESTAGE PREMIUM_CUSTOMER\n",
       "0            1000   YOUNG SINGLES/COUPLES          Premium\n",
       "1            1002   YOUNG SINGLES/COUPLES       Mainstream\n",
       "2            1003          YOUNG FAMILIES           Budget\n",
       "3            1004   OLDER SINGLES/COUPLES       Mainstream\n",
       "4            1005  MIDAGE SINGLES/COUPLES       Mainstream"
      ]
     },
     "execution_count": 119,
     "metadata": {},
     "output_type": "execute_result"
    }
   ],
   "source": [
    "customer_data.head()"
   ]
  },
  {
   "cell_type": "code",
   "execution_count": 120,
   "id": "d2bea638",
   "metadata": {},
   "outputs": [
    {
     "name": "stdout",
     "output_type": "stream",
     "text": [
      "<class 'pandas.core.frame.DataFrame'>\n",
      "RangeIndex: 72637 entries, 0 to 72636\n",
      "Data columns (total 3 columns):\n",
      " #   Column            Non-Null Count  Dtype \n",
      "---  ------            --------------  ----- \n",
      " 0   LYLTY_CARD_NBR    72637 non-null  int64 \n",
      " 1   LIFESTAGE         72637 non-null  object\n",
      " 2   PREMIUM_CUSTOMER  72637 non-null  object\n",
      "dtypes: int64(1), object(2)\n",
      "memory usage: 1.7+ MB\n"
     ]
    }
   ],
   "source": [
    "customer_data.info()"
   ]
  },
  {
   "cell_type": "code",
   "execution_count": 122,
   "id": "58482895",
   "metadata": {},
   "outputs": [
    {
     "name": "stdout",
     "output_type": "stream",
     "text": [
      "<class 'pandas.core.frame.DataFrame'>\n",
      "RangeIndex: 72637 entries, 0 to 72636\n",
      "Data columns (total 3 columns):\n",
      " #   Column            Non-Null Count  Dtype \n",
      "---  ------            --------------  ----- \n",
      " 0   LYLTY_CARD_NBR    72637 non-null  int64 \n",
      " 1   LIFESTAGE         72637 non-null  object\n",
      " 2   PREMIUM_CUSTOMER  72637 non-null  object\n",
      "dtypes: int64(1), object(2)\n",
      "memory usage: 1.7+ MB\n"
     ]
    }
   ],
   "source": [
    "customer_data['LYLTY_CARD_NBR'].astype('int16')\n",
    "customer_data.info()"
   ]
  },
  {
   "cell_type": "markdown",
   "id": "abc5c69a",
   "metadata": {},
   "source": [
    "No null values! Let's examinate unique values"
   ]
  },
  {
   "cell_type": "code",
   "execution_count": 123,
   "id": "3153f3af",
   "metadata": {},
   "outputs": [
    {
     "data": {
      "text/plain": [
       "array(['MIDAGE SINGLES/COUPLES', 'NEW FAMILIES', 'OLDER FAMILIES',\n",
       "       'OLDER SINGLES/COUPLES', 'RETIREES', 'YOUNG FAMILIES',\n",
       "       'YOUNG SINGLES/COUPLES'], dtype=object)"
      ]
     },
     "execution_count": 123,
     "metadata": {},
     "output_type": "execute_result"
    }
   ],
   "source": [
    "np.unique(customer_data['LIFESTAGE'])"
   ]
  },
  {
   "cell_type": "code",
   "execution_count": 124,
   "id": "877cc82c",
   "metadata": {},
   "outputs": [
    {
     "data": {
      "text/plain": [
       "array(['Budget', 'Mainstream', 'Premium'], dtype=object)"
      ]
     },
     "execution_count": 124,
     "metadata": {},
     "output_type": "execute_result"
    }
   ],
   "source": [
    "np.unique(customer_data['PREMIUM_CUSTOMER'])"
   ]
  },
  {
   "cell_type": "markdown",
   "id": "78eec8f8",
   "metadata": {},
   "source": [
    "No things abnormal! Now merge the two data for analysis"
   ]
  },
  {
   "cell_type": "code",
   "execution_count": 126,
   "id": "38faf0b6",
   "metadata": {},
   "outputs": [
    {
     "name": "stdout",
     "output_type": "stream",
     "text": [
      "<class 'pandas.core.frame.DataFrame'>\n",
      "Int64Index: 246740 entries, 0 to 246739\n",
      "Data columns (total 12 columns):\n",
      " #   Column            Non-Null Count   Dtype  \n",
      "---  ------            --------------   -----  \n",
      " 0   DATE              246740 non-null  int32  \n",
      " 1   STORE_NBR         246740 non-null  int32  \n",
      " 2   LYLTY_CARD_NBR    246740 non-null  int32  \n",
      " 3   TXN_ID            246740 non-null  int32  \n",
      " 4   PROD_NBR          246740 non-null  int32  \n",
      " 5   PROD_NAME         246740 non-null  object \n",
      " 6   PROD_QTY          246740 non-null  int32  \n",
      " 7   TOT_SALES         246740 non-null  float32\n",
      " 8   PACK_SIZE         246740 non-null  object \n",
      " 9   BRAND_NAME        246740 non-null  object \n",
      " 10  LIFESTAGE         246740 non-null  object \n",
      " 11  PREMIUM_CUSTOMER  246740 non-null  object \n",
      "dtypes: float32(1), int32(6), object(5)\n",
      "memory usage: 17.9+ MB\n"
     ]
    }
   ],
   "source": [
    "merge_data = pd.merge(transaction_data, customer_data, how = 'left')\n",
    "merge_data.info()"
   ]
  },
  {
   "cell_type": "markdown",
   "id": "9a8a9729",
   "metadata": {},
   "source": [
    "As the number of data records in the merge_data is the same as the transaction_data, we can be sure that no duplicates were created. This is left join.\n",
    "\n",
    "Also, there is no nulls, so all customers in the transaction data has been accounted for in the customer dataset.\n",
    "\n",
    "Let's do the exploratory data analysis! :) "
   ]
  },
  {
   "cell_type": "markdown",
   "id": "8d718506",
   "metadata": {},
   "source": [
    "## 2. EDA"
   ]
  },
  {
   "cell_type": "code",
   "execution_count": 170,
   "id": "b5f582c3",
   "metadata": {},
   "outputs": [
    {
     "data": {
      "text/plain": [
       "<AxesSubplot:xlabel='PREMIUM_CUSTOMER', ylabel='TOT_SALES'>"
      ]
     },
     "execution_count": 170,
     "metadata": {},
     "output_type": "execute_result"
    },
    {
     "data": {
      "image/png": "[encoded data removed]",
      "text/plain": [
       "<Figure size 432x576 with 1 Axes>"
      ]
     },
     "metadata": {
      "needs_background": "light"
     },
     "output_type": "display_data"
    }
   ],
   "source": [
    "fig,ax = plt.subplots(figsize = (6,8))\n",
    "sns.barplot(x = 'PREMIUM_CUSTOMER', y = 'TOT_SALES', data = merge_data, palette = 'mako', estimator = np.sum )"
   ]
  },
  {
   "cell_type": "code",
   "execution_count": 173,
   "id": "6afcd3bc",
   "metadata": {},
   "outputs": [
    {
     "data": {
      "image/png": "[encoded data removed]",
      "text/plain": [
       "<Figure size 360x504 with 1 Axes>"
      ]
     },
     "metadata": {
      "needs_background": "light"
     },
     "output_type": "display_data"
    }
   ],
   "source": [
    "fig,ax = plt.subplots(figsize = (5,7))\n",
    "sns.barplot(x = 'LIFESTAGE', y = 'TOT_SALES', data = merge_data, palette = 'mako', estimator = np.sum)\n",
    "plt.xticks(rotation=45)\n",
    "plt.show()"
   ]
  },
  {
   "cell_type": "code",
   "execution_count": 162,
   "id": "a5262adc",
   "metadata": {},
   "outputs": [
    {
     "data": {
      "text/plain": [
       "<Figure size 1080x720 with 0 Axes>"
      ]
     },
     "metadata": {},
     "output_type": "display_data"
    },
    {
     "data": {
      "image/png": "[encoded data removed]",
      "text/plain": [
       "<Figure size 475.625x360 with 1 Axes>"
      ]
     },
     "metadata": {
      "needs_background": "light"
     },
     "output_type": "display_data"
    }
   ],
   "source": [
    "plt.figure(figsize=(15, 10))\n",
    "ax = sns.catplot(y=\"LIFESTAGE\", hue=\"PREMIUM_CUSTOMER\", kind=\"count\",\n",
    "            palette=\"mako\", edgecolor=\".6\",\n",
    "            data=merge_data)"
   ]
  },
  {
   "cell_type": "markdown",
   "id": "c10b4ad8",
   "metadata": {},
   "source": [
    "Most customers in Young singles/couples, midage singles/couples, and retirees stage are from mainstream while in young families and older families stage, most of them are budget customers."
   ]
  },
  {
   "cell_type": "code",
   "execution_count": 163,
   "id": "b6f8bdcd",
   "metadata": {},
   "outputs": [
    {
     "data": {
      "text/plain": [
       "(array([0, 1, 2, 3, 4, 5, 6]),\n",
       " [Text(0, 0, 'YOUNG SINGLES/COUPLES'),\n",
       "  Text(1, 0, 'MIDAGE SINGLES/COUPLES'),\n",
       "  Text(2, 0, 'NEW FAMILIES'),\n",
       "  Text(3, 0, 'OLDER FAMILIES'),\n",
       "  Text(4, 0, 'OLDER SINGLES/COUPLES'),\n",
       "  Text(5, 0, 'RETIREES'),\n",
       "  Text(6, 0, 'YOUNG FAMILIES')])"
      ]
     },
     "execution_count": 163,
     "metadata": {},
     "output_type": "execute_result"
    },
    {
     "data": {
      "text/plain": [
       "<Figure size 864x720 with 0 Axes>"
      ]
     },
     "metadata": {},
     "output_type": "display_data"
    },
    {
     "data": {
      "image/png": "[encoded data removed]",
      "text/plain": [
       "<Figure size 475.625x360 with 1 Axes>"
      ]
     },
     "metadata": {
      "needs_background": "light"
     },
     "output_type": "display_data"
    }
   ],
   "source": [
    "plt.figure(figsize=(12, 10))\n",
    "ax = sns.catplot(x='LIFESTAGE',y = 'TOT_SALES',hue = 'PREMIUM_CUSTOMER',palette = 'mako',kind = 'point',data=merge_data, estimator = np.sum)\n",
    "plt.xticks(rotation=45)"
   ]
  },
  {
   "cell_type": "markdown",
   "id": "f249a39d",
   "metadata": {},
   "source": [
    "Sales are coming mainly from Mainstream - young singles/couples, Mainstream - retirees, Budget - older families, and Budget - young families.\n",
    "\n",
    "High sales may also be driven by more units of chips bought per customer. Let's take a look"
   ]
  },
  {
   "cell_type": "code",
   "execution_count": 166,
   "id": "b7172afa",
   "metadata": {},
   "outputs": [
    {
     "data": {
      "text/plain": [
       "(array([0, 1, 2, 3, 4, 5, 6]),\n",
       " [Text(0, 0, 'YOUNG SINGLES/COUPLES'),\n",
       "  Text(1, 0, 'MIDAGE SINGLES/COUPLES'),\n",
       "  Text(2, 0, 'NEW FAMILIES'),\n",
       "  Text(3, 0, 'OLDER FAMILIES'),\n",
       "  Text(4, 0, 'OLDER SINGLES/COUPLES'),\n",
       "  Text(5, 0, 'RETIREES'),\n",
       "  Text(6, 0, 'YOUNG FAMILIES')])"
      ]
     },
     "execution_count": 166,
     "metadata": {},
     "output_type": "execute_result"
    },
    {
     "data": {
      "image/png": "[encoded data removed]",
      "text/plain": [
       "<Figure size 576x432 with 1 Axes>"
      ]
     },
     "metadata": {
      "needs_background": "light"
     },
     "output_type": "display_data"
    }
   ],
   "source": [
    "fig,ax = plt.subplots(figsize = (8,6))\n",
    "sns.barplot(x = 'LIFESTAGE', y = 'PROD_QTY', data = merge_data, palette = 'mako', estimator = np.mean)\n",
    "plt.xticks(rotation=45)"
   ]
  },
  {
   "cell_type": "markdown",
   "id": "b85673b4",
   "metadata": {},
   "source": [
    "On average, older families and young families seem to buy more chips than others"
   ]
  },
  {
   "cell_type": "code",
   "execution_count": 167,
   "id": "cb6f9504",
   "metadata": {},
   "outputs": [
    {
     "data": {
      "text/plain": [
       "<AxesSubplot:xlabel='PREMIUM_CUSTOMER', ylabel='PROD_QTY'>"
      ]
     },
     "execution_count": 167,
     "metadata": {},
     "output_type": "execute_result"
    },
    {
     "data": {
      "image/png": "[encoded data removed]",
      "text/plain": [
       "<Figure size 576x432 with 1 Axes>"
      ]
     },
     "metadata": {
      "needs_background": "light"
     },
     "output_type": "display_data"
    }
   ],
   "source": [
    "fig,ax = plt.subplots(figsize = (8,6))\n",
    "sns.barplot(x = 'PREMIUM_CUSTOMER', y = 'PROD_QTY', data = merge_data, palette = 'mako', estimator = np.mean)"
   ]
  },
  {
   "cell_type": "code",
   "execution_count": 168,
   "id": "54938c7a",
   "metadata": {},
   "outputs": [
    {
     "data": {
      "text/plain": [
       "(array([0, 1, 2, 3, 4, 5, 6]),\n",
       " [Text(0, 0, 'YOUNG SINGLES/COUPLES'),\n",
       "  Text(1, 0, 'MIDAGE SINGLES/COUPLES'),\n",
       "  Text(2, 0, 'NEW FAMILIES'),\n",
       "  Text(3, 0, 'OLDER FAMILIES'),\n",
       "  Text(4, 0, 'OLDER SINGLES/COUPLES'),\n",
       "  Text(5, 0, 'RETIREES'),\n",
       "  Text(6, 0, 'YOUNG FAMILIES')])"
      ]
     },
     "execution_count": 168,
     "metadata": {},
     "output_type": "execute_result"
    },
    {
     "data": {
      "text/plain": [
       "<Figure size 864x720 with 0 Axes>"
      ]
     },
     "metadata": {},
     "output_type": "display_data"
    },
    {
     "data": {
      "image/png": "[encoded data removed]",
      "text/plain": [
       "<Figure size 475.625x360 with 1 Axes>"
      ]
     },
     "metadata": {
      "needs_background": "light"
     },
     "output_type": "display_data"
    }
   ],
   "source": [
    "plt.figure(figsize=(12, 10))\n",
    "ax = sns.catplot(x='LIFESTAGE',y = 'PROD_QTY',hue = 'PREMIUM_CUSTOMER',palette = 'mako',kind = 'point',data=merge_data, estimator = np.mean)\n",
    "plt.xticks(rotation=45)"
   ]
  },
  {
   "cell_type": "markdown",
   "id": "fbfc81f2",
   "metadata": {},
   "source": [
    "The product quantity per customer is a driver of total sales for mainstream young singles/couples and midage singles/couples. However, it seems not true for Mainstream - retirees, Budget - older families, and Budget - young families. Let's investigate the average price per units bought by each customer."
   ]
  },
  {
   "cell_type": "code",
   "execution_count": 169,
   "id": "23ba62f8",
   "metadata": {},
   "outputs": [
    {
     "name": "stdout",
     "output_type": "stream",
     "text": [
      "<class 'pandas.core.frame.DataFrame'>\n",
      "Int64Index: 246740 entries, 0 to 246739\n",
      "Data columns (total 12 columns):\n",
      " #   Column            Non-Null Count   Dtype  \n",
      "---  ------            --------------   -----  \n",
      " 0   DATE              246740 non-null  int32  \n",
      " 1   STORE_NBR         246740 non-null  int32  \n",
      " 2   LYLTY_CARD_NBR    246740 non-null  int32  \n",
      " 3   TXN_ID            246740 non-null  int32  \n",
      " 4   PROD_NBR          246740 non-null  int32  \n",
      " 5   PROD_NAME         246740 non-null  object \n",
      " 6   PROD_QTY          246740 non-null  int32  \n",
      " 7   TOT_SALES         246740 non-null  float32\n",
      " 8   PACK_SIZE         246740 non-null  object \n",
      " 9   BRAND_NAME        246740 non-null  object \n",
      " 10  LIFESTAGE         246740 non-null  object \n",
      " 11  PREMIUM_CUSTOMER  246740 non-null  object \n",
      "dtypes: float32(1), int32(6), object(5)\n",
      "memory usage: 25.9+ MB\n"
     ]
    }
   ],
   "source": [
    "merge_data.info()"
   ]
  },
  {
   "cell_type": "code",
   "execution_count": 175,
   "id": "ff23473d",
   "metadata": {},
   "outputs": [
    {
     "data": {
      "text/plain": [
       "(array([0, 1, 2, 3, 4, 5, 6]),\n",
       " [Text(0, 0, 'YOUNG SINGLES/COUPLES'),\n",
       "  Text(1, 0, 'MIDAGE SINGLES/COUPLES'),\n",
       "  Text(2, 0, 'NEW FAMILIES'),\n",
       "  Text(3, 0, 'OLDER FAMILIES'),\n",
       "  Text(4, 0, 'OLDER SINGLES/COUPLES'),\n",
       "  Text(5, 0, 'RETIREES'),\n",
       "  Text(6, 0, 'YOUNG FAMILIES')])"
      ]
     },
     "execution_count": 175,
     "metadata": {},
     "output_type": "execute_result"
    },
    {
     "data": {
      "text/plain": [
       "<Figure size 864x720 with 0 Axes>"
      ]
     },
     "metadata": {},
     "output_type": "display_data"
    },
    {
     "data": {
      "image/png": "[encoded data removed]",
      "text/plain": [
       "<Figure size 475.625x360 with 1 Axes>"
      ]
     },
     "metadata": {
      "needs_background": "light"
     },
     "output_type": "display_data"
    }
   ],
   "source": [
    "merge_data['PRICE_PER_UNIT'] = merge_data['TOT_SALES']/merge_data['PROD_QTY']\n",
    "plt.figure(figsize=(12, 10))\n",
    "ax = sns.catplot(x='LIFESTAGE',y = 'PRICE_PER_UNIT',hue = 'PREMIUM_CUSTOMER',kind = 'point',palette = 'mako',data=merge_data, estimator = np.mean)\n",
    "plt.xticks(rotation=45)"
   ]
  },
  {
   "cell_type": "markdown",
   "id": "456cef09",
   "metadata": {},
   "source": [
    "Mainstream midage and young singles/couples are more willing to pay more per packet of chips compared to their budget and premium counterparts. This may be due to premium shoppers being more likely to buy healthy snacks and when they buy chips, this is mainly for entertainment purposes rather than their own consumption. This also supported by there being fewer premium midage and young singles and couples buying chips compared to their mainstream counter parts.\n",
    "\n",
    "As the difference in average price per unit isn't large, we can check if this difference is statiscally different."
   ]
  },
  {
   "cell_type": "code",
   "execution_count": 190,
   "id": "aef069cf",
   "metadata": {},
   "outputs": [
    {
     "name": "stdout",
     "output_type": "stream",
     "text": [
      "Ttest_indResult(statistic=-35.339232702326264, pvalue=1.0984957466354619e-268)\n"
     ]
    }
   ],
   "source": [
    "mainstream_young = merge_data[(merge_data.LIFESTAGE == 'YOUNG SINGLES/COUPLES') & (merge_data.PREMIUM_CUSTOMER == 'Mainstream')]\n",
    "other_young = merge_data[(merge_data.LIFESTAGE == 'YOUNG SINGLES/COUPLES') & (merge_data.PREMIUM_CUSTOMER != 'Mainstream')]\n",
    "#check if we’ll assume the two populations have equal variances or not\n",
    "var_ratio = np.var(mainstream_young['PRICE_PER_UNIT'])/np.var(other_young['PRICE_PER_UNIT'])\n",
    "\n",
    "if (var_ratio <= 4) or (var_ratio >= 0.25):\n",
    "    #perform two sample t-test with equal variances\n",
    "    p = stats.ttest_ind(a=other_young['PRICE_PER_UNIT'], b=mainstream_young['PRICE_PER_UNIT'], equal_var=True)\n",
    "print(p)"
   ]
  },
  {
   "cell_type": "markdown",
   "id": "f22548c6",
   "metadata": {},
   "source": [
    "The t-test result in a p-value of 1.0984957466354619e-268, i.e. the unit price for mainstream, young singles/couples are significantly higher than that of budget or premium, young singles and couples"
   ]
  },
  {
   "cell_type": "code",
   "execution_count": 196,
   "id": "c0edc844",
   "metadata": {},
   "outputs": [
    {
     "name": "stdout",
     "output_type": "stream",
     "text": [
      "Ttest_indResult(statistic=-16.814983048522055, pvalue=4.449933979429101e-63)\n"
     ]
    }
   ],
   "source": [
    "mainstream_midage = merge_data[(merge_data.LIFESTAGE == 'MIDAGE SINGLES/COUPLES') & (merge_data.PREMIUM_CUSTOMER == 'Mainstream')]\n",
    "other_midage = merge_data[(merge_data.LIFESTAGE == 'MIDAGE SINGLES/COUPLES') & (merge_data.PREMIUM_CUSTOMER != 'Mainstream')]\n",
    "#check if we’ll assume the two populations have equal variances or not\n",
    "var_ratio = np.var(mainstream_midage['PRICE_PER_UNIT'])/np.var(other_midage['PRICE_PER_UNIT'])\n",
    "\n",
    "if (var_ratio <= 4) or (var_ratio >= 0.25):\n",
    "    #perform two sample t-test with equal variances\n",
    "    p = stats.ttest_ind(a=other_midage['PRICE_PER_UNIT'], b=mainstream_midage['PRICE_PER_UNIT'], equal_var=True)\n",
    "print(p)"
   ]
  },
  {
   "cell_type": "markdown",
   "id": "8d40c158",
   "metadata": {},
   "source": [
    "The t-test result in a p-value of 4.449933979429101e-63, i.e. the unit price for mainstream, midage singles/couples are significantly higher than that of budget or premium, midage singles and couples\n",
    "\n",
    "We might want to target customer segments that contribute the most to sales to retain them or further increase sales. Let's look at mainstream, young single/couples. Let's find out if they tend to buy a particular brand of chips."
   ]
  },
  {
   "cell_type": "code",
   "execution_count": 200,
   "id": "c8b736bf",
   "metadata": {},
   "outputs": [
    {
     "data": {
      "text/plain": [
       "[('Kettle', 3844),\n",
       " ('Doritos', 2379),\n",
       " ('Pringles', 2315),\n",
       " ('Smiths', 1921),\n",
       " ('Infuzions', 1250)]"
      ]
     },
     "execution_count": 200,
     "metadata": {},
     "output_type": "execute_result"
    }
   ],
   "source": [
    "Counter(mainstream_young['BRAND_NAME']).most_common(5)"
   ]
  },
  {
   "cell_type": "code",
   "execution_count": null,
   "id": "1cab7ba5",
   "metadata": {},
   "outputs": [],
   "source": []
  }
 ],
 "metadata": {
  "kernelspec": {
   "display_name": "Python 3 (ipykernel)",
   "language": "python",
   "name": "python3"
  },
  "language_info": {
   "codemirror_mode": {
    "name": "ipython",
    "version": 3
   },
   "file_extension": ".py",
   "mimetype": "text/x-python",
   "name": "python",
   "nbconvert_exporter": "python",
   "pygments_lexer": "ipython3",
   "version": "3.9.7"
  }
 },
 "nbformat": 4,
 "nbformat_minor": 5
}
