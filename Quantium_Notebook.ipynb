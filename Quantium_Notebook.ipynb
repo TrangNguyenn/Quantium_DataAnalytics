{
 "cells": [
  {
   "cell_type": "markdown",
   "id": "3a5d81c7",
   "metadata": {},
   "source": [
    "# Quantium Data Analysis"
   ]
  },
  {
   "cell_type": "code",
   "execution_count": 1,
   "id": "26e484dc",
   "metadata": {},
   "outputs": [],
   "source": [
    "#Load libraries\n",
    "import numpy as np\n",
    "import pandas as pd\n",
    "import matplotlib.pyplot as plt\n",
    "import seaborn as sns\n",
    "%matplotlib inline"
   ]
  },
  {
   "cell_type": "code",
   "execution_count": 2,
   "id": "b641c21a",
   "metadata": {},
   "outputs": [],
   "source": [
    "#Load datasets\n",
    "transaction_data = pd.read_excel(\"QVI_transaction_data.xlsx\")\n",
    "purchase_date = pd.read_csv(\"QVI_purchase_behaviour.csv\")"
   ]
  },
  {
   "cell_type": "markdown",
   "id": "3058caf9",
   "metadata": {},
   "source": [
    "## 1. Data Cleaning"
   ]
  },
  {
   "cell_type": "markdown",
   "id": "83b8197c",
   "metadata": {},
   "source": [
    "### 1.1. Examining transaction data "
   ]
  },
  {
   "cell_type": "code",
   "execution_count": 3,
   "id": "cb09cc52",
   "metadata": {},
   "outputs": [
    {
     "data": {
      "text/html": [
       "<div>\n",
       "<style scoped>\n",
       "    .dataframe tbody tr th:only-of-type {\n",
       "        vertical-align: middle;\n",
       "    }\n",
       "\n",
       "    .dataframe tbody tr th {\n",
       "        vertical-align: top;\n",
       "    }\n",
       "\n",
       "    .dataframe thead th {\n",
       "        text-align: right;\n",
       "    }\n",
       "</style>\n",
       "<table border=\"1\" class=\"dataframe\">\n",
       "  <thead>\n",
       "    <tr style=\"text-align: right;\">\n",
       "      <th></th>\n",
       "      <th>DATE</th>\n",
       "      <th>STORE_NBR</th>\n",
       "      <th>LYLTY_CARD_NBR</th>\n",
       "      <th>TXN_ID</th>\n",
       "      <th>PROD_NBR</th>\n",
       "      <th>PROD_NAME</th>\n",
       "      <th>PROD_QTY</th>\n",
       "      <th>TOT_SALES</th>\n",
       "    </tr>\n",
       "  </thead>\n",
       "  <tbody>\n",
       "    <tr>\n",
       "      <th>0</th>\n",
       "      <td>43390</td>\n",
       "      <td>1</td>\n",
       "      <td>1000</td>\n",
       "      <td>1</td>\n",
       "      <td>5</td>\n",
       "      <td>Natural Chip        Compny SeaSalt175g</td>\n",
       "      <td>2</td>\n",
       "      <td>6.0</td>\n",
       "    </tr>\n",
       "    <tr>\n",
       "      <th>1</th>\n",
       "      <td>43599</td>\n",
       "      <td>1</td>\n",
       "      <td>1307</td>\n",
       "      <td>348</td>\n",
       "      <td>66</td>\n",
       "      <td>CCs Nacho Cheese    175g</td>\n",
       "      <td>3</td>\n",
       "      <td>6.3</td>\n",
       "    </tr>\n",
       "    <tr>\n",
       "      <th>2</th>\n",
       "      <td>43605</td>\n",
       "      <td>1</td>\n",
       "      <td>1343</td>\n",
       "      <td>383</td>\n",
       "      <td>61</td>\n",
       "      <td>Smiths Crinkle Cut  Chips Chicken 170g</td>\n",
       "      <td>2</td>\n",
       "      <td>2.9</td>\n",
       "    </tr>\n",
       "    <tr>\n",
       "      <th>3</th>\n",
       "      <td>43329</td>\n",
       "      <td>2</td>\n",
       "      <td>2373</td>\n",
       "      <td>974</td>\n",
       "      <td>69</td>\n",
       "      <td>Smiths Chip Thinly  S/Cream&amp;Onion 175g</td>\n",
       "      <td>5</td>\n",
       "      <td>15.0</td>\n",
       "    </tr>\n",
       "    <tr>\n",
       "      <th>4</th>\n",
       "      <td>43330</td>\n",
       "      <td>2</td>\n",
       "      <td>2426</td>\n",
       "      <td>1038</td>\n",
       "      <td>108</td>\n",
       "      <td>Kettle Tortilla ChpsHny&amp;Jlpno Chili 150g</td>\n",
       "      <td>3</td>\n",
       "      <td>13.8</td>\n",
       "    </tr>\n",
       "  </tbody>\n",
       "</table>\n",
       "</div>"
      ],
      "text/plain": [
       "    DATE  STORE_NBR  LYLTY_CARD_NBR  TXN_ID  PROD_NBR  \\\n",
       "0  43390          1            1000       1         5   \n",
       "1  43599          1            1307     348        66   \n",
       "2  43605          1            1343     383        61   \n",
       "3  43329          2            2373     974        69   \n",
       "4  43330          2            2426    1038       108   \n",
       "\n",
       "                                  PROD_NAME  PROD_QTY  TOT_SALES  \n",
       "0    Natural Chip        Compny SeaSalt175g         2        6.0  \n",
       "1                  CCs Nacho Cheese    175g         3        6.3  \n",
       "2    Smiths Crinkle Cut  Chips Chicken 170g         2        2.9  \n",
       "3    Smiths Chip Thinly  S/Cream&Onion 175g         5       15.0  \n",
       "4  Kettle Tortilla ChpsHny&Jlpno Chili 150g         3       13.8  "
      ]
     },
     "execution_count": 3,
     "metadata": {},
     "output_type": "execute_result"
    }
   ],
   "source": [
    "transaction_data.head()"
   ]
  },
  {
   "cell_type": "code",
   "execution_count": 4,
   "id": "a56e03fb",
   "metadata": {},
   "outputs": [
    {
     "name": "stdout",
     "output_type": "stream",
     "text": [
      "<class 'pandas.core.frame.DataFrame'>\n",
      "RangeIndex: 264836 entries, 0 to 264835\n",
      "Data columns (total 8 columns):\n",
      " #   Column          Non-Null Count   Dtype  \n",
      "---  ------          --------------   -----  \n",
      " 0   DATE            264836 non-null  int64  \n",
      " 1   STORE_NBR       264836 non-null  int64  \n",
      " 2   LYLTY_CARD_NBR  264836 non-null  int64  \n",
      " 3   TXN_ID          264836 non-null  int64  \n",
      " 4   PROD_NBR        264836 non-null  int64  \n",
      " 5   PROD_NAME       264836 non-null  object \n",
      " 6   PROD_QTY        264836 non-null  int64  \n",
      " 7   TOT_SALES       264836 non-null  float64\n",
      "dtypes: float64(1), int64(6), object(1)\n",
      "memory usage: 16.2+ MB\n"
     ]
    }
   ],
   "source": [
    "transaction_data.info()"
   ]
  },
  {
   "cell_type": "code",
   "execution_count": 5,
   "id": "e86efca6",
   "metadata": {},
   "outputs": [],
   "source": [
    "#Change dtype to save memory\n",
    "transaction_data['TOT_SALES'] = transaction_data['TOT_SALES'].astype('float32') #Change float64 to float32\n",
    "\n",
    "int64 =  transaction_data.select_dtypes(include=['int64']).columns.tolist() \n",
    "transaction_data[int64] = transaction_data[int64].astype('int32') #Change int64 to int32\n",
    "\n",
    "transaction_data['PROD_NAME'] = transaction_data['PROD_NAME'].astype('category')"
   ]
  },
  {
   "cell_type": "code",
   "execution_count": 6,
   "id": "a2bb3ef7",
   "metadata": {},
   "outputs": [
    {
     "name": "stdout",
     "output_type": "stream",
     "text": [
      "<class 'pandas.core.frame.DataFrame'>\n",
      "RangeIndex: 264836 entries, 0 to 264835\n",
      "Data columns (total 8 columns):\n",
      " #   Column          Non-Null Count   Dtype   \n",
      "---  ------          --------------   -----   \n",
      " 0   DATE            264836 non-null  int32   \n",
      " 1   STORE_NBR       264836 non-null  int32   \n",
      " 2   LYLTY_CARD_NBR  264836 non-null  int32   \n",
      " 3   TXN_ID          264836 non-null  int32   \n",
      " 4   PROD_NBR        264836 non-null  int32   \n",
      " 5   PROD_NAME       264836 non-null  category\n",
      " 6   PROD_QTY        264836 non-null  int32   \n",
      " 7   TOT_SALES       264836 non-null  float32 \n",
      "dtypes: category(1), float32(1), int32(6)\n",
      "memory usage: 7.3 MB\n"
     ]
    }
   ],
   "source": [
    "transaction_data.info()"
   ]
  },
  {
   "cell_type": "markdown",
   "id": "ae4c746f",
   "metadata": {},
   "source": [
    "Memory usage from 16.2+ MB change to 7.3 MB"
   ]
  },
  {
   "cell_type": "code",
   "execution_count": 7,
   "id": "b3dd98e7",
   "metadata": {},
   "outputs": [
    {
     "data": {
      "text/html": [
       "<div>\n",
       "<style scoped>\n",
       "    .dataframe tbody tr th:only-of-type {\n",
       "        vertical-align: middle;\n",
       "    }\n",
       "\n",
       "    .dataframe tbody tr th {\n",
       "        vertical-align: top;\n",
       "    }\n",
       "\n",
       "    .dataframe thead th {\n",
       "        text-align: right;\n",
       "    }\n",
       "</style>\n",
       "<table border=\"1\" class=\"dataframe\">\n",
       "  <thead>\n",
       "    <tr style=\"text-align: right;\">\n",
       "      <th></th>\n",
       "      <th>DATE</th>\n",
       "      <th>STORE_NBR</th>\n",
       "      <th>LYLTY_CARD_NBR</th>\n",
       "      <th>TXN_ID</th>\n",
       "      <th>PROD_NBR</th>\n",
       "      <th>PROD_QTY</th>\n",
       "      <th>TOT_SALES</th>\n",
       "    </tr>\n",
       "  </thead>\n",
       "  <tbody>\n",
       "    <tr>\n",
       "      <th>count</th>\n",
       "      <td>264836.000000</td>\n",
       "      <td>264836.00000</td>\n",
       "      <td>2.648360e+05</td>\n",
       "      <td>2.648360e+05</td>\n",
       "      <td>264836.000000</td>\n",
       "      <td>264836.000000</td>\n",
       "      <td>264836.000000</td>\n",
       "    </tr>\n",
       "    <tr>\n",
       "      <th>mean</th>\n",
       "      <td>43464.036260</td>\n",
       "      <td>135.08011</td>\n",
       "      <td>1.355495e+05</td>\n",
       "      <td>1.351583e+05</td>\n",
       "      <td>56.583157</td>\n",
       "      <td>1.907309</td>\n",
       "      <td>7.302778</td>\n",
       "    </tr>\n",
       "    <tr>\n",
       "      <th>std</th>\n",
       "      <td>105.389282</td>\n",
       "      <td>76.78418</td>\n",
       "      <td>8.057998e+04</td>\n",
       "      <td>7.813303e+04</td>\n",
       "      <td>32.826638</td>\n",
       "      <td>0.643654</td>\n",
       "      <td>3.083583</td>\n",
       "    </tr>\n",
       "    <tr>\n",
       "      <th>min</th>\n",
       "      <td>43282.000000</td>\n",
       "      <td>1.00000</td>\n",
       "      <td>1.000000e+03</td>\n",
       "      <td>1.000000e+00</td>\n",
       "      <td>1.000000</td>\n",
       "      <td>1.000000</td>\n",
       "      <td>1.500000</td>\n",
       "    </tr>\n",
       "    <tr>\n",
       "      <th>25%</th>\n",
       "      <td>43373.000000</td>\n",
       "      <td>70.00000</td>\n",
       "      <td>7.002100e+04</td>\n",
       "      <td>6.760150e+04</td>\n",
       "      <td>28.000000</td>\n",
       "      <td>2.000000</td>\n",
       "      <td>5.400000</td>\n",
       "    </tr>\n",
       "    <tr>\n",
       "      <th>50%</th>\n",
       "      <td>43464.000000</td>\n",
       "      <td>130.00000</td>\n",
       "      <td>1.303575e+05</td>\n",
       "      <td>1.351375e+05</td>\n",
       "      <td>56.000000</td>\n",
       "      <td>2.000000</td>\n",
       "      <td>7.400000</td>\n",
       "    </tr>\n",
       "    <tr>\n",
       "      <th>75%</th>\n",
       "      <td>43555.000000</td>\n",
       "      <td>203.00000</td>\n",
       "      <td>2.030942e+05</td>\n",
       "      <td>2.027012e+05</td>\n",
       "      <td>85.000000</td>\n",
       "      <td>2.000000</td>\n",
       "      <td>9.200000</td>\n",
       "    </tr>\n",
       "    <tr>\n",
       "      <th>max</th>\n",
       "      <td>43646.000000</td>\n",
       "      <td>272.00000</td>\n",
       "      <td>2.373711e+06</td>\n",
       "      <td>2.415841e+06</td>\n",
       "      <td>114.000000</td>\n",
       "      <td>200.000000</td>\n",
       "      <td>650.000000</td>\n",
       "    </tr>\n",
       "  </tbody>\n",
       "</table>\n",
       "</div>"
      ],
      "text/plain": [
       "                DATE     STORE_NBR  LYLTY_CARD_NBR        TXN_ID  \\\n",
       "count  264836.000000  264836.00000    2.648360e+05  2.648360e+05   \n",
       "mean    43464.036260     135.08011    1.355495e+05  1.351583e+05   \n",
       "std       105.389282      76.78418    8.057998e+04  7.813303e+04   \n",
       "min     43282.000000       1.00000    1.000000e+03  1.000000e+00   \n",
       "25%     43373.000000      70.00000    7.002100e+04  6.760150e+04   \n",
       "50%     43464.000000     130.00000    1.303575e+05  1.351375e+05   \n",
       "75%     43555.000000     203.00000    2.030942e+05  2.027012e+05   \n",
       "max     43646.000000     272.00000    2.373711e+06  2.415841e+06   \n",
       "\n",
       "            PROD_NBR       PROD_QTY      TOT_SALES  \n",
       "count  264836.000000  264836.000000  264836.000000  \n",
       "mean       56.583157       1.907309       7.302778  \n",
       "std        32.826638       0.643654       3.083583  \n",
       "min         1.000000       1.000000       1.500000  \n",
       "25%        28.000000       2.000000       5.400000  \n",
       "50%        56.000000       2.000000       7.400000  \n",
       "75%        85.000000       2.000000       9.200000  \n",
       "max       114.000000     200.000000     650.000000  "
      ]
     },
     "execution_count": 7,
     "metadata": {},
     "output_type": "execute_result"
    }
   ],
   "source": [
    "transaction_data.describe()"
   ]
  },
  {
   "cell_type": "markdown",
   "id": "047c3228",
   "metadata": {},
   "source": [
    "The maximum of PROD_QTY, TOT_SALES are outstanding. Let's take a look"
   ]
  },
  {
   "cell_type": "code",
   "execution_count": 8,
   "id": "826de4b3",
   "metadata": {},
   "outputs": [
    {
     "data": {
      "text/html": [
       "<div>\n",
       "<style scoped>\n",
       "    .dataframe tbody tr th:only-of-type {\n",
       "        vertical-align: middle;\n",
       "    }\n",
       "\n",
       "    .dataframe tbody tr th {\n",
       "        vertical-align: top;\n",
       "    }\n",
       "\n",
       "    .dataframe thead th {\n",
       "        text-align: right;\n",
       "    }\n",
       "</style>\n",
       "<table border=\"1\" class=\"dataframe\">\n",
       "  <thead>\n",
       "    <tr style=\"text-align: right;\">\n",
       "      <th></th>\n",
       "      <th>DATE</th>\n",
       "      <th>STORE_NBR</th>\n",
       "      <th>LYLTY_CARD_NBR</th>\n",
       "      <th>TXN_ID</th>\n",
       "      <th>PROD_NBR</th>\n",
       "      <th>PROD_NAME</th>\n",
       "      <th>PROD_QTY</th>\n",
       "      <th>TOT_SALES</th>\n",
       "    </tr>\n",
       "  </thead>\n",
       "  <tbody>\n",
       "    <tr>\n",
       "      <th>69762</th>\n",
       "      <td>43331</td>\n",
       "      <td>226</td>\n",
       "      <td>226000</td>\n",
       "      <td>226201</td>\n",
       "      <td>4</td>\n",
       "      <td>Dorito Corn Chp     Supreme 380g</td>\n",
       "      <td>200</td>\n",
       "      <td>650.0</td>\n",
       "    </tr>\n",
       "    <tr>\n",
       "      <th>69763</th>\n",
       "      <td>43605</td>\n",
       "      <td>226</td>\n",
       "      <td>226000</td>\n",
       "      <td>226210</td>\n",
       "      <td>4</td>\n",
       "      <td>Dorito Corn Chp     Supreme 380g</td>\n",
       "      <td>200</td>\n",
       "      <td>650.0</td>\n",
       "    </tr>\n",
       "  </tbody>\n",
       "</table>\n",
       "</div>"
      ],
      "text/plain": [
       "        DATE  STORE_NBR  LYLTY_CARD_NBR  TXN_ID  PROD_NBR  \\\n",
       "69762  43331        226          226000  226201         4   \n",
       "69763  43605        226          226000  226210         4   \n",
       "\n",
       "                              PROD_NAME  PROD_QTY  TOT_SALES  \n",
       "69762  Dorito Corn Chp     Supreme 380g       200      650.0  \n",
       "69763  Dorito Corn Chp     Supreme 380g       200      650.0  "
      ]
     },
     "execution_count": 8,
     "metadata": {},
     "output_type": "execute_result"
    }
   ],
   "source": [
    "transaction_data.loc[transaction_data['PROD_QTY'] == 200]"
   ]
  },
  {
   "cell_type": "markdown",
   "id": "95550ff5",
   "metadata": {},
   "source": [
    "There are 2 transactions where 200 packets of chips are purchased in one transaction by the same customer. Let examine other transactions by this customer"
   ]
  },
  {
   "cell_type": "code",
   "execution_count": 9,
   "id": "1c35e65a",
   "metadata": {},
   "outputs": [
    {
     "data": {
      "text/html": [
       "<div>\n",
       "<style scoped>\n",
       "    .dataframe tbody tr th:only-of-type {\n",
       "        vertical-align: middle;\n",
       "    }\n",
       "\n",
       "    .dataframe tbody tr th {\n",
       "        vertical-align: top;\n",
       "    }\n",
       "\n",
       "    .dataframe thead th {\n",
       "        text-align: right;\n",
       "    }\n",
       "</style>\n",
       "<table border=\"1\" class=\"dataframe\">\n",
       "  <thead>\n",
       "    <tr style=\"text-align: right;\">\n",
       "      <th></th>\n",
       "      <th>DATE</th>\n",
       "      <th>STORE_NBR</th>\n",
       "      <th>LYLTY_CARD_NBR</th>\n",
       "      <th>TXN_ID</th>\n",
       "      <th>PROD_NBR</th>\n",
       "      <th>PROD_NAME</th>\n",
       "      <th>PROD_QTY</th>\n",
       "      <th>TOT_SALES</th>\n",
       "    </tr>\n",
       "  </thead>\n",
       "  <tbody>\n",
       "    <tr>\n",
       "      <th>69762</th>\n",
       "      <td>43331</td>\n",
       "      <td>226</td>\n",
       "      <td>226000</td>\n",
       "      <td>226201</td>\n",
       "      <td>4</td>\n",
       "      <td>Dorito Corn Chp     Supreme 380g</td>\n",
       "      <td>200</td>\n",
       "      <td>650.0</td>\n",
       "    </tr>\n",
       "    <tr>\n",
       "      <th>69763</th>\n",
       "      <td>43605</td>\n",
       "      <td>226</td>\n",
       "      <td>226000</td>\n",
       "      <td>226210</td>\n",
       "      <td>4</td>\n",
       "      <td>Dorito Corn Chp     Supreme 380g</td>\n",
       "      <td>200</td>\n",
       "      <td>650.0</td>\n",
       "    </tr>\n",
       "  </tbody>\n",
       "</table>\n",
       "</div>"
      ],
      "text/plain": [
       "        DATE  STORE_NBR  LYLTY_CARD_NBR  TXN_ID  PROD_NBR  \\\n",
       "69762  43331        226          226000  226201         4   \n",
       "69763  43605        226          226000  226210         4   \n",
       "\n",
       "                              PROD_NAME  PROD_QTY  TOT_SALES  \n",
       "69762  Dorito Corn Chp     Supreme 380g       200      650.0  \n",
       "69763  Dorito Corn Chp     Supreme 380g       200      650.0  "
      ]
     },
     "execution_count": 9,
     "metadata": {},
     "output_type": "execute_result"
    }
   ],
   "source": [
    "transaction_data.loc[transaction_data['LYLTY_CARD_NBR'] == 226000]"
   ]
  },
  {
   "cell_type": "markdown",
   "id": "48b6898f",
   "metadata": {},
   "source": [
    "There is no other transactions by this customer. So it is not an ordinary retail customer. I will remove this customer from further analysis"
   ]
  },
  {
   "cell_type": "code",
   "execution_count": 10,
   "id": "2c9d03ea",
   "metadata": {},
   "outputs": [
    {
     "data": {
      "text/html": [
       "<div>\n",
       "<style scoped>\n",
       "    .dataframe tbody tr th:only-of-type {\n",
       "        vertical-align: middle;\n",
       "    }\n",
       "\n",
       "    .dataframe tbody tr th {\n",
       "        vertical-align: top;\n",
       "    }\n",
       "\n",
       "    .dataframe thead th {\n",
       "        text-align: right;\n",
       "    }\n",
       "</style>\n",
       "<table border=\"1\" class=\"dataframe\">\n",
       "  <thead>\n",
       "    <tr style=\"text-align: right;\">\n",
       "      <th></th>\n",
       "      <th>DATE</th>\n",
       "      <th>STORE_NBR</th>\n",
       "      <th>LYLTY_CARD_NBR</th>\n",
       "      <th>TXN_ID</th>\n",
       "      <th>PROD_NBR</th>\n",
       "      <th>PROD_QTY</th>\n",
       "      <th>TOT_SALES</th>\n",
       "    </tr>\n",
       "  </thead>\n",
       "  <tbody>\n",
       "    <tr>\n",
       "      <th>count</th>\n",
       "      <td>264834.000000</td>\n",
       "      <td>264834.000000</td>\n",
       "      <td>2.648340e+05</td>\n",
       "      <td>2.648340e+05</td>\n",
       "      <td>264834.000000</td>\n",
       "      <td>264834.000000</td>\n",
       "      <td>264834.000000</td>\n",
       "    </tr>\n",
       "    <tr>\n",
       "      <th>mean</th>\n",
       "      <td>43464.036230</td>\n",
       "      <td>135.079423</td>\n",
       "      <td>1.355488e+05</td>\n",
       "      <td>1.351576e+05</td>\n",
       "      <td>56.583554</td>\n",
       "      <td>1.905813</td>\n",
       "      <td>7.297929</td>\n",
       "    </tr>\n",
       "    <tr>\n",
       "      <th>std</th>\n",
       "      <td>105.389007</td>\n",
       "      <td>76.784063</td>\n",
       "      <td>8.057990e+04</td>\n",
       "      <td>7.813292e+04</td>\n",
       "      <td>32.826444</td>\n",
       "      <td>0.343436</td>\n",
       "      <td>2.527142</td>\n",
       "    </tr>\n",
       "    <tr>\n",
       "      <th>min</th>\n",
       "      <td>43282.000000</td>\n",
       "      <td>1.000000</td>\n",
       "      <td>1.000000e+03</td>\n",
       "      <td>1.000000e+00</td>\n",
       "      <td>1.000000</td>\n",
       "      <td>1.000000</td>\n",
       "      <td>1.500000</td>\n",
       "    </tr>\n",
       "    <tr>\n",
       "      <th>25%</th>\n",
       "      <td>43373.000000</td>\n",
       "      <td>70.000000</td>\n",
       "      <td>7.002100e+04</td>\n",
       "      <td>6.760050e+04</td>\n",
       "      <td>28.000000</td>\n",
       "      <td>2.000000</td>\n",
       "      <td>5.400000</td>\n",
       "    </tr>\n",
       "    <tr>\n",
       "      <th>50%</th>\n",
       "      <td>43464.000000</td>\n",
       "      <td>130.000000</td>\n",
       "      <td>1.303570e+05</td>\n",
       "      <td>1.351365e+05</td>\n",
       "      <td>56.000000</td>\n",
       "      <td>2.000000</td>\n",
       "      <td>7.400000</td>\n",
       "    </tr>\n",
       "    <tr>\n",
       "      <th>75%</th>\n",
       "      <td>43555.000000</td>\n",
       "      <td>203.000000</td>\n",
       "      <td>2.030940e+05</td>\n",
       "      <td>2.026998e+05</td>\n",
       "      <td>85.000000</td>\n",
       "      <td>2.000000</td>\n",
       "      <td>9.200000</td>\n",
       "    </tr>\n",
       "    <tr>\n",
       "      <th>max</th>\n",
       "      <td>43646.000000</td>\n",
       "      <td>272.000000</td>\n",
       "      <td>2.373711e+06</td>\n",
       "      <td>2.415841e+06</td>\n",
       "      <td>114.000000</td>\n",
       "      <td>5.000000</td>\n",
       "      <td>29.500000</td>\n",
       "    </tr>\n",
       "  </tbody>\n",
       "</table>\n",
       "</div>"
      ],
      "text/plain": [
       "                DATE      STORE_NBR  LYLTY_CARD_NBR        TXN_ID  \\\n",
       "count  264834.000000  264834.000000    2.648340e+05  2.648340e+05   \n",
       "mean    43464.036230     135.079423    1.355488e+05  1.351576e+05   \n",
       "std       105.389007      76.784063    8.057990e+04  7.813292e+04   \n",
       "min     43282.000000       1.000000    1.000000e+03  1.000000e+00   \n",
       "25%     43373.000000      70.000000    7.002100e+04  6.760050e+04   \n",
       "50%     43464.000000     130.000000    1.303570e+05  1.351365e+05   \n",
       "75%     43555.000000     203.000000    2.030940e+05  2.026998e+05   \n",
       "max     43646.000000     272.000000    2.373711e+06  2.415841e+06   \n",
       "\n",
       "            PROD_NBR       PROD_QTY      TOT_SALES  \n",
       "count  264834.000000  264834.000000  264834.000000  \n",
       "mean       56.583554       1.905813       7.297929  \n",
       "std        32.826444       0.343436       2.527142  \n",
       "min         1.000000       1.000000       1.500000  \n",
       "25%        28.000000       2.000000       5.400000  \n",
       "50%        56.000000       2.000000       7.400000  \n",
       "75%        85.000000       2.000000       9.200000  \n",
       "max       114.000000       5.000000      29.500000  "
      ]
     },
     "execution_count": 10,
     "metadata": {},
     "output_type": "execute_result"
    }
   ],
   "source": [
    "transaction_data = transaction_data.drop(transaction_data[transaction_data.LYLTY_CARD_NBR == 226000].index)\n",
    "transaction_data.describe()"
   ]
  },
  {
   "cell_type": "markdown",
   "id": "9455ed3c",
   "metadata": {},
   "source": [
    "Now check unique values of each column"
   ]
  },
  {
   "cell_type": "code",
   "execution_count": 11,
   "id": "ed59953a",
   "metadata": {},
   "outputs": [
    {
     "name": "stdout",
     "output_type": "stream",
     "text": [
      "No of unique values in column DATE are: 364\n",
      "No of unique values in column STORE_NBR are: 272\n",
      "No of unique values in column LYLTY_CARD_NBR are: 72636\n",
      "No of unique values in column TXN_ID are: 263125\n",
      "No of unique values in column PROD_NBR are: 114\n",
      "No of unique values in column PROD_NAME are: 114\n",
      "No of unique values in column PROD_QTY are: 5\n",
      "No of unique values in column TOT_SALES are: 111\n"
     ]
    }
   ],
   "source": [
    "for column in transaction_data.columns.to_list():\n",
    "    print(\"No of unique values in column \" + column + \" are: \" + str(len(np.unique(transaction_data[column]))))"
   ]
  },
  {
   "cell_type": "code",
   "execution_count": 12,
   "id": "359afb2f",
   "metadata": {},
   "outputs": [
    {
     "data": {
      "text/plain": [
       "0"
      ]
     },
     "execution_count": 12,
     "metadata": {},
     "output_type": "execute_result"
    }
   ],
   "source": [
    "transaction_data.isnull().sum().sum()"
   ]
  },
  {
   "cell_type": "markdown",
   "id": "678a8399",
   "metadata": {},
   "source": [
    "No null values! Now check if I am looking at the right products by examining PROD_NAME"
   ]
  },
  {
   "cell_type": "code",
   "execution_count": 13,
   "id": "51ff7528",
   "metadata": {},
   "outputs": [
    {
     "data": {
      "text/plain": [
       "array(['Burger Rings 220g', 'CCs Nacho Cheese    175g',\n",
       "       'CCs Original 175g', 'CCs Tasty Cheese    175g',\n",
       "       'Cheetos Chs & Bacon Balls 190g', 'Cheetos Puffs 165g',\n",
       "       'Cheezels Cheese 330g', 'Cheezels Cheese Box 125g',\n",
       "       'Cobs Popd Sea Salt  Chips 110g',\n",
       "       'Cobs Popd Sour Crm  &Chives Chips 110g',\n",
       "       'Cobs Popd Swt/Chlli &Sr/Cream Chips 110g',\n",
       "       'Dorito Corn Chp     Supreme 380g',\n",
       "       'Doritos Cheese      Supreme 330g',\n",
       "       'Doritos Corn Chip Mexican Jalapeno 150g',\n",
       "       'Doritos Corn Chip Southern Chicken 150g',\n",
       "       'Doritos Corn Chips  Cheese Supreme 170g',\n",
       "       'Doritos Corn Chips  Nacho Cheese 170g',\n",
       "       'Doritos Corn Chips  Original 170g', 'Doritos Mexicana    170g',\n",
       "       'Doritos Salsa       Medium 300g', 'Doritos Salsa Mild  300g',\n",
       "       'French Fries Potato Chips 175g',\n",
       "       'Grain Waves         Sweet Chilli 210g',\n",
       "       'Grain Waves Sour    Cream&Chives 210G',\n",
       "       'GrnWves Plus Btroot & Chilli Jam 180g',\n",
       "       'Infuzions BBQ Rib   Prawn Crackers 110g',\n",
       "       'Infuzions Mango     Chutny Papadums 70g',\n",
       "       'Infuzions SourCream&Herbs Veg Strws 110g',\n",
       "       'Infuzions Thai SweetChili PotatoMix 110g',\n",
       "       'Infzns Crn Crnchers Tangy Gcamole 110g',\n",
       "       'Kettle 135g Swt Pot Sea Salt', 'Kettle Chilli 175g',\n",
       "       'Kettle Honey Soy    Chicken 175g',\n",
       "       'Kettle Mozzarella   Basil & Pesto 175g', 'Kettle Original 175g',\n",
       "       'Kettle Sea Salt     And Vinegar 175g',\n",
       "       'Kettle Sensations   BBQ&Maple 150g',\n",
       "       'Kettle Sensations   Camembert & Fig 150g',\n",
       "       'Kettle Sensations   Siracha Lime 150g',\n",
       "       'Kettle Sweet Chilli And Sour Cream 175g',\n",
       "       'Kettle Tortilla ChpsBtroot&Ricotta 150g',\n",
       "       'Kettle Tortilla ChpsFeta&Garlic 150g',\n",
       "       'Kettle Tortilla ChpsHny&Jlpno Chili 150g',\n",
       "       'NCC Sour Cream &    Garden Chives 175g',\n",
       "       'Natural Chip        Compny SeaSalt175g',\n",
       "       'Natural Chip Co     Tmato Hrb&Spce 175g',\n",
       "       'Natural ChipCo      Hony Soy Chckn175g',\n",
       "       'Natural ChipCo Sea  Salt & Vinegr 175g',\n",
       "       'Old El Paso Salsa   Dip Chnky Tom Ht300g',\n",
       "       'Old El Paso Salsa   Dip Tomato Med 300g',\n",
       "       'Old El Paso Salsa   Dip Tomato Mild 300g',\n",
       "       'Pringles Barbeque   134g', 'Pringles Chicken    Salt Crips 134g',\n",
       "       'Pringles Mystery    Flavour 134g',\n",
       "       'Pringles Original   Crisps 134g', 'Pringles Slt Vingar 134g',\n",
       "       'Pringles SourCream  Onion 134g',\n",
       "       'Pringles Sthrn FriedChicken 134g', 'Pringles Sweet&Spcy BBQ 134g',\n",
       "       'RRD Chilli&         Coconut 150g',\n",
       "       'RRD Honey Soy       Chicken 165g', 'RRD Lime & Pepper   165g',\n",
       "       'RRD Pc Sea Salt     165g', 'RRD SR Slow Rst     Pork Belly 150g',\n",
       "       'RRD Salt & Vinegar  165g', 'RRD Steak &         Chimuchurri 150g',\n",
       "       'RRD Sweet Chilli &  Sour Cream 165g',\n",
       "       'Red Rock Deli Chikn&Garlic Aioli 150g',\n",
       "       'Red Rock Deli SR    Salsa & Mzzrlla 150g',\n",
       "       'Red Rock Deli Sp    Salt & Truffle 150G',\n",
       "       'Red Rock Deli Thai  Chilli&Lime 150g',\n",
       "       'Smith Crinkle Cut   Bolognese 150g',\n",
       "       'Smith Crinkle Cut   Mac N Cheese 150g',\n",
       "       'Smiths Chip Thinly  Cut Original 175g',\n",
       "       'Smiths Chip Thinly  CutSalt/Vinegr175g',\n",
       "       'Smiths Chip Thinly  S/Cream&Onion 175g',\n",
       "       'Smiths Crinkle      Original 330g',\n",
       "       'Smiths Crinkle Chips Salt & Vinegar 330g',\n",
       "       'Smiths Crinkle Cut  Chips Barbecue 170g',\n",
       "       'Smiths Crinkle Cut  Chips Chicken 170g',\n",
       "       'Smiths Crinkle Cut  Chips Chs&Onion170g',\n",
       "       'Smiths Crinkle Cut  Chips Original 170g',\n",
       "       'Smiths Crinkle Cut  French OnionDip 150g',\n",
       "       'Smiths Crinkle Cut  Salt & Vinegar 170g',\n",
       "       'Smiths Crinkle Cut  Snag&Sauce 150g',\n",
       "       'Smiths Crinkle Cut  Tomato Salsa 150g',\n",
       "       'Smiths Crnkle Chip  Orgnl Big Bag 380g',\n",
       "       'Smiths Thinly       Swt Chli&S/Cream175G',\n",
       "       'Smiths Thinly Cut   Roast Chicken 175g',\n",
       "       'Snbts Whlgrn Crisps Cheddr&Mstrd 90g',\n",
       "       'Sunbites Whlegrn    Crisps Frch/Onin 90g',\n",
       "       'Thins Chips         Originl saltd 175g',\n",
       "       'Thins Chips Light&  Tangy 175g',\n",
       "       'Thins Chips Salt &  Vinegar 175g',\n",
       "       'Thins Chips Seasonedchicken 175g',\n",
       "       'Thins Potato Chips  Hot & Spicy 175g',\n",
       "       'Tostitos Lightly    Salted 175g',\n",
       "       'Tostitos Smoked     Chipotle 175g',\n",
       "       'Tostitos Splash Of  Lime 175g', 'Twisties Cheese     270g',\n",
       "       'Twisties Cheese     Burger 250g', 'Twisties Chicken270g',\n",
       "       'Tyrrells Crisps     Ched & Chives 165g',\n",
       "       'Tyrrells Crisps     Lightly Salted 165g',\n",
       "       'WW Crinkle Cut      Chicken 175g',\n",
       "       'WW Crinkle Cut      Original 175g',\n",
       "       'WW D/Style Chip     Sea Salt 200g',\n",
       "       'WW Original Corn    Chips 200g', 'WW Original Stacked Chips 160g',\n",
       "       'WW Sour Cream &OnionStacked Chips 160g',\n",
       "       'WW Supreme Cheese   Corn Chips 200g',\n",
       "       'Woolworths Cheese   Rings 190g', 'Woolworths Medium   Salsa 300g',\n",
       "       'Woolworths Mild     Salsa 300g'], dtype=object)"
      ]
     },
     "execution_count": 13,
     "metadata": {},
     "output_type": "execute_result"
    }
   ],
   "source": [
    "np.unique(transaction_data['PROD_NAME'])"
   ]
  },
  {
   "cell_type": "markdown",
   "id": "423d8a54",
   "metadata": {},
   "source": [
    "As the Client is the Category of Manager for Chips, I should only focus on the chips product. The salsa products should be removed."
   ]
  },
  {
   "cell_type": "code",
   "execution_count": 14,
   "id": "57f2aa71",
   "metadata": {},
   "outputs": [
    {
     "name": "stdout",
     "output_type": "stream",
     "text": [
      "<class 'pandas.core.frame.DataFrame'>\n",
      "Int64Index: 246740 entries, 0 to 264835\n",
      "Data columns (total 8 columns):\n",
      " #   Column          Non-Null Count   Dtype   \n",
      "---  ------          --------------   -----   \n",
      " 0   DATE            246740 non-null  int32   \n",
      " 1   STORE_NBR       246740 non-null  int32   \n",
      " 2   LYLTY_CARD_NBR  246740 non-null  int32   \n",
      " 3   TXN_ID          246740 non-null  int32   \n",
      " 4   PROD_NBR        246740 non-null  int32   \n",
      " 5   PROD_NAME       246740 non-null  category\n",
      " 6   PROD_QTY        246740 non-null  int32   \n",
      " 7   TOT_SALES       246740 non-null  float32 \n",
      "dtypes: category(1), float32(1), int32(6)\n",
      "memory usage: 8.7 MB\n"
     ]
    }
   ],
   "source": [
    "discard = [\"Salsa\"]\n",
    "transaction_data = transaction_data[transaction_data['PROD_NAME'].apply(lambda x: 'Salsa' not in x)]\n",
    "transaction_data.info()"
   ]
  },
  {
   "cell_type": "markdown",
   "id": "b6dd44d0",
   "metadata": {},
   "source": [
    "Now let's create an other attribute to get pack size from PROD_NAME"
   ]
  },
  {
   "cell_type": "code",
   "execution_count": null,
   "id": "ff24ce85",
   "metadata": {},
   "outputs": [],
   "source": []
  }
 ],
 "metadata": {
  "kernelspec": {
   "display_name": "Python 3 (ipykernel)",
   "language": "python",
   "name": "python3"
  },
  "language_info": {
   "codemirror_mode": {
    "name": "ipython",
    "version": 3
   },
   "file_extension": ".py",
   "mimetype": "text/x-python",
   "name": "python",
   "nbconvert_exporter": "python",
   "pygments_lexer": "ipython3",
   "version": "3.9.7"
  }
 },
 "nbformat": 4,
 "nbformat_minor": 5
}
